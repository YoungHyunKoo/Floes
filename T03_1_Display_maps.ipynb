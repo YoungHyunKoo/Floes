{
 "cells": [
  {
   "cell_type": "markdown",
   "metadata": {},
   "source": [
    "# DISPLAY MAPS"
   ]
  },
  {
   "cell_type": "markdown",
   "metadata": {},
   "source": [
    "## Display sea ice statistics maps in the Weddell Sea using .nc files\n",
    "- Read netCDF files for the sea ice statistics\n",
    "- Draw sea ice statistics maps in the Weddell Sea\n",
    "\n",
    "Credited by Younghyun Koo (kooala317@gmail.com)"
   ]
  },
  {
   "cell_type": "markdown",
   "metadata": {},
   "source": [
    "## (1) Import necessary libraries"
   ]
  },
  {
   "cell_type": "code",
   "execution_count": 1,
   "metadata": {
    "tags": []
   },
   "outputs": [],
   "source": [
    "import warnings\n",
    "warnings.filterwarnings('ignore')\n",
    "\n",
    "import os, glob\n",
    "import numpy as np\n",
    "import h5py\n",
    "import matplotlib.pylab as plt\n",
    "from math import *\n",
    "import netCDF4\n",
    "from netCDF4 import date2num,num2date\n",
    "import pandas as pd\n",
    "import cartopy.crs as ccrs\n",
    "import datetime as dt"
   ]
  },
  {
   "cell_type": "markdown",
   "metadata": {},
   "source": [
    "## (2) Read .nc file"
   ]
  },
  {
   "cell_type": "code",
   "execution_count": 9,
   "metadata": {
    "tags": []
   },
   "outputs": [
    {
     "name": "stdout",
     "output_type": "stream",
     "text": [
      "dict_keys(['x', 'y', 'time', 'lat', 'lon', 'fb_mode', 'fb_mean', 'fb_med', 'fb_std', 'fr_ridge', 'h_ridge', 'fr_lead', 'floe_len', 'floe_cnt'])\n"
     ]
    }
   ],
   "source": [
    "# Enter name of the .nc file\n",
    "lead_type = \"S\"\n",
    "ncname = f'D:\\\\Floes\\\\array\\\\Grid_fb_v6_entire_{lead_type}.nc'\n",
    "\n",
    "with netCDF4.Dataset(ncname, 'r') as nc:\n",
    "    keys = nc.variables.keys()\n",
    "    print(keys)\n",
    "    \n",
    "    # X/Y coordinates and lat/lon on the NSIDC sea ice stereogeographic south\n",
    "    x = np.array(nc.variables['x'])\n",
    "    y = np.array(nc.variables['y'])\n",
    "    xx, yy = np.meshgrid(x, y)\n",
    "    lat = np.array(nc.variables['lat'])\n",
    "    lon = np.array(nc.variables['lon'])\n",
    "    \n",
    "    # Times in seconds from 1800/01/01\n",
    "    times = np.array(nc.variables['time'])\n",
    "    t = num2date(nc.variables['time'], nc.variables['time'].units)\n",
    "    \n",
    "    # Freeboard statistics\n",
    "    fmode = np.array(nc.variables['fb_mode'])\n",
    "    fmean = np.array(nc.variables['fb_mean'])\n",
    "    fmed = np.array(nc.variables['fb_med'])\n",
    "    fstd = np.array(nc.variables['fb_std'])\n",
    "    fridge = np.array(nc.variables['fr_ridge'])\n",
    "    hridge = np.array(nc.variables['h_ridge'])\n",
    "    flead = np.array(nc.variables['fr_lead'])\n",
    "    \n",
    "    # Floe statistics\n",
    "    flen = np.array(nc.variables['floe_len'])\n",
    "    fcnt = np.array(nc.variables['floe_cnt'])"
   ]
  },
  {
   "cell_type": "markdown",
   "metadata": {},
   "source": [
    "## (3) Draw maps in the Weddell Sea"
   ]
  },
  {
   "cell_type": "code",
   "execution_count": 10,
   "metadata": {
    "tags": []
   },
   "outputs": [],
   "source": [
    "# Draw the mean of the variable in the time series from date1 to date2\n",
    "variable = \"Fr_lead\"\n",
    "for year in [2018, 2019, 2020, 2021, 2022]:\n",
    "    if year == 2018:\n",
    "        months = np.array([10, 11, 12])\n",
    "    elif year == 2023:\n",
    "        months = np.array([1, 2, 3])\n",
    "    else:\n",
    "        months = np.arange(1, 13)\n",
    "    \n",
    "    for month in months:\n",
    "        date1 = dt.datetime(year, month, 1)\n",
    "        date2 = date1 + dt.timedelta(days = 60)\n",
    "\n",
    "        fig, ax = fig, ax = plt.subplots(1, 1, figsize=(6,6), dpi= 100, subplot_kw={'projection': ccrs.SouthPolarStereo()})\n",
    "        ax.coastlines()\n",
    "        idx = (t >= date1) & (t < date2)\n",
    "        \n",
    "        if variable == \"Fmode\":        \n",
    "            m = ax.pcolormesh(xx, yy, np.nanmean(fmode[idx], axis=0), vmin=0, vmax=1)\n",
    "        elif variable == \"Fmean\":        \n",
    "            m = ax.pcolormesh(xx, yy, np.nanmean(fmean[idx], axis=0), vmin=0, vmax=1)\n",
    "        elif variable == \"Fstd\":\n",
    "            m = ax.pcolormesh(xx, yy, np.nanmean(fstd[idx], axis=0), vmin=0, vmax=0.5)\n",
    "        elif variable == \"Floe_len\":\n",
    "            m = ax.pcolormesh(xx, yy, np.nanmean(np.log10(flen[idx]), axis=0), vmin=np.log10(10), vmax=np.log10(10000))\n",
    "        elif variable == \"FL_ratio\":\n",
    "            m = ax.pcolormesh(xx, yy, np.nanmean(fmean[idx]/(flen[idx]/1000), axis=0), vmin=0)\n",
    "        elif variable == \"Fr_lead\":\n",
    "            m = ax.pcolormesh(xx, yy, np.nanmean(flead[idx], axis=0), vmin=0, vmax = 20, cmap = \"jet\")\n",
    "        fig.colorbar(m, ax=ax, shrink = 0.5)\n",
    "        ax.set_title(f\"{variable} {str(int(year*100+month))}\")\n",
    "        plt.savefig(f\"D:\\\\Floes\\\\figures\\\\{variable}_{lead_type}_{str(int(year*100+month))}.png\", bbox_inches = \"tight\")\n",
    "        plt.close()"
   ]
  },
  {
   "cell_type": "markdown",
   "metadata": {},
   "source": [
    "## Generate video"
   ]
  },
  {
   "cell_type": "code",
   "execution_count": 21,
   "metadata": {
    "tags": []
   },
   "outputs": [],
   "source": [
    "import cv2\n",
    "import os\n",
    "\n",
    "for var in [\"Fmode\", \"Fstd\", \"Floe_len\"]:\n",
    "    image_folder = 'D:\\\\Floes\\\\figures'\n",
    "    video_name = image_folder + f'\\\\{var}.avi'\n",
    "\n",
    "    images = glob.glob(image_folder + f\"\\\\{var}_*.png\") #[img for img in os.listdir(image_folder) if img.endswith(\".png\")]\n",
    "    frame = cv2.imread(os.path.join(image_folder, images[0]))\n",
    "    height, width, layers = frame.shape\n",
    "\n",
    "    video = cv2.VideoWriter(video_name, 0, 1, (width,height))\n",
    "\n",
    "    for image in images:\n",
    "        video.write(cv2.imread(os.path.join(image_folder, image)))\n",
    "\n",
    "    cv2.destroyAllWindows()\n",
    "    video.release()"
   ]
  }
 ],
 "metadata": {
  "kernelspec": {
   "display_name": "Python 3 (ipykernel)",
   "language": "python",
   "name": "python3"
  },
  "language_info": {
   "codemirror_mode": {
    "name": "ipython",
    "version": 3
   },
   "file_extension": ".py",
   "mimetype": "text/x-python",
   "name": "python",
   "nbconvert_exporter": "python",
   "pygments_lexer": "ipython3",
   "version": "3.10.14"
  }
 },
 "nbformat": 4,
 "nbformat_minor": 4
}
