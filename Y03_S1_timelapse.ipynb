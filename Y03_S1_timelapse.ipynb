{
 "cells": [
  {
   "cell_type": "code",
   "execution_count": 1,
   "id": "ca6320d9-c0b9-4703-a79f-0f431779a2d9",
   "metadata": {},
   "outputs": [],
   "source": [
    "import ee\n",
    "import geemap\n",
    "import os\n",
    "import datetime as dt\n",
    "import numpy as np"
   ]
  },
  {
   "cell_type": "code",
   "execution_count": 3,
   "id": "ec6955d6-30dd-4811-bfff-c341ddc59d70",
   "metadata": {},
   "outputs": [
    {
     "data": {
      "text/html": [
       "\n",
       "            <style>\n",
       "                .geemap-dark {\n",
       "                    --jp-widgets-color: white;\n",
       "                    --jp-widgets-label-color: white;\n",
       "                    --jp-ui-font-color1: white;\n",
       "                    --jp-layout-color2: #454545;\n",
       "                    background-color: #383838;\n",
       "                }\n",
       "\n",
       "                .geemap-dark .jupyter-button {\n",
       "                    --jp-layout-color3: #383838;\n",
       "                }\n",
       "\n",
       "                .geemap-colab {\n",
       "                    background-color: var(--colab-primary-surface-color, white);\n",
       "                }\n",
       "\n",
       "                .geemap-colab .jupyter-button {\n",
       "                    --jp-layout-color3: var(--colab-primary-surface-color, white);\n",
       "                }\n",
       "            </style>\n",
       "            "
      ],
      "text/plain": [
       "<IPython.core.display.HTML object>"
      ]
     },
     "metadata": {},
     "output_type": "display_data"
    },
    {
     "name": "stdout",
     "output_type": "stream",
     "text": [
      "Requirement already satisfied: ffmpeg-python in c:\\users\\yoko2261\\appdata\\local\\anaconda3\\envs\\myenv\\lib\\site-packages (0.2.0)\n",
      "Requirement already satisfied: future in c:\\users\\yoko2261\\appdata\\local\\anaconda3\\envs\\myenv\\lib\\site-packages (from ffmpeg-python) (1.0.0)\n"
     ]
    }
   ],
   "source": [
    "!pip install ffmpeg-python"
   ]
  },
  {
   "cell_type": "code",
   "execution_count": 4,
   "id": "c5ef8f02-5d59-4c21-8415-383982a1fb79",
   "metadata": {},
   "outputs": [
    {
     "data": {
      "text/html": [
       "\n",
       "            <style>\n",
       "                .geemap-dark {\n",
       "                    --jp-widgets-color: white;\n",
       "                    --jp-widgets-label-color: white;\n",
       "                    --jp-ui-font-color1: white;\n",
       "                    --jp-layout-color2: #454545;\n",
       "                    background-color: #383838;\n",
       "                }\n",
       "\n",
       "                .geemap-dark .jupyter-button {\n",
       "                    --jp-layout-color3: #383838;\n",
       "                }\n",
       "\n",
       "                .geemap-colab {\n",
       "                    background-color: var(--colab-primary-surface-color, white);\n",
       "                }\n",
       "\n",
       "                .geemap-colab .jupyter-button {\n",
       "                    --jp-layout-color3: var(--colab-primary-surface-color, white);\n",
       "                }\n",
       "            </style>\n",
       "            "
      ],
      "text/plain": [
       "<IPython.core.display.HTML object>"
      ]
     },
     "metadata": {},
     "output_type": "display_data"
    },
    {
     "data": {
      "text/html": [
       "<p>To authorize access needed by Earth Engine, open the following\n",
       "        URL in a web browser and follow the instructions:</p>\n",
       "        <p><a href=https://code.earthengine.google.com/client-auth?scopes=https%3A//www.googleapis.com/auth/earthengine%20https%3A//www.googleapis.com/auth/cloud-platform%20https%3A//www.googleapis.com/auth/devstorage.full_control&request_id=RzJxIcHGa_PG_6qH5JsbdOORUKfqPwYyVj0YHiuzfmA&tc=gF3Fk8qWVrP6Krc2IWhvzGtLaiVREjEqfT-r_sIZ61c&cc=3B-SrqB2WPfBU4okdgOWcs5iqv-trEldolZxovL-TO0>https://code.earthengine.google.com/client-auth?scopes=https%3A//www.googleapis.com/auth/earthengine%20https%3A//www.googleapis.com/auth/cloud-platform%20https%3A//www.googleapis.com/auth/devstorage.full_control&request_id=RzJxIcHGa_PG_6qH5JsbdOORUKfqPwYyVj0YHiuzfmA&tc=gF3Fk8qWVrP6Krc2IWhvzGtLaiVREjEqfT-r_sIZ61c&cc=3B-SrqB2WPfBU4okdgOWcs5iqv-trEldolZxovL-TO0</a></p>\n",
       "        <p>The authorization workflow will generate a code, which you should paste in the box below.</p>\n",
       "        "
      ],
      "text/plain": [
       "<IPython.core.display.HTML object>"
      ]
     },
     "metadata": {},
     "output_type": "display_data"
    },
    {
     "name": "stdin",
     "output_type": "stream",
     "text": [
      "Enter verification code:  4/1ATx3LY6qA7wRCh4QxrC1cf3lJsmHlL6vnSQzE3Rf8i4YOoMAEloMOrce5Xg\n"
     ]
    },
    {
     "name": "stdout",
     "output_type": "stream",
     "text": [
      "\n",
      "Successfully saved authorization token.\n"
     ]
    }
   ],
   "source": [
    "ee.Authenticate()"
   ]
  },
  {
   "cell_type": "code",
   "execution_count": 2,
   "id": "fd5f1dd8-c840-4582-b123-8be4125849ea",
   "metadata": {},
   "outputs": [
    {
     "data": {
      "text/html": [
       "\n",
       "            <style>\n",
       "                .geemap-dark {\n",
       "                    --jp-widgets-color: white;\n",
       "                    --jp-widgets-label-color: white;\n",
       "                    --jp-ui-font-color1: white;\n",
       "                    --jp-layout-color2: #454545;\n",
       "                    background-color: #383838;\n",
       "                }\n",
       "\n",
       "                .geemap-dark .jupyter-button {\n",
       "                    --jp-layout-color3: #383838;\n",
       "                }\n",
       "\n",
       "                .geemap-colab {\n",
       "                    background-color: var(--colab-primary-surface-color, white);\n",
       "                }\n",
       "\n",
       "                .geemap-colab .jupyter-button {\n",
       "                    --jp-layout-color3: var(--colab-primary-surface-color, white);\n",
       "                }\n",
       "            </style>\n",
       "            "
      ],
      "text/plain": [
       "<IPython.core.display.HTML object>"
      ]
     },
     "metadata": {},
     "output_type": "display_data"
    }
   ],
   "source": [
    "ee.Initialize()"
   ]
  },
  {
   "cell_type": "code",
   "execution_count": 3,
   "id": "2a49bfd2-cc96-449c-bfd7-9557ba0e240f",
   "metadata": {},
   "outputs": [
    {
     "data": {
      "text/html": [
       "\n",
       "            <style>\n",
       "                .geemap-dark {\n",
       "                    --jp-widgets-color: white;\n",
       "                    --jp-widgets-label-color: white;\n",
       "                    --jp-ui-font-color1: white;\n",
       "                    --jp-layout-color2: #454545;\n",
       "                    background-color: #383838;\n",
       "                }\n",
       "\n",
       "                .geemap-dark .jupyter-button {\n",
       "                    --jp-layout-color3: #383838;\n",
       "                }\n",
       "\n",
       "                .geemap-colab {\n",
       "                    background-color: var(--colab-primary-surface-color, white);\n",
       "                }\n",
       "\n",
       "                .geemap-colab .jupyter-button {\n",
       "                    --jp-layout-color3: var(--colab-primary-surface-color, white);\n",
       "                }\n",
       "            </style>\n",
       "            "
      ],
      "text/plain": [
       "<IPython.core.display.HTML object>"
      ]
     },
     "metadata": {},
     "output_type": "display_data"
    }
   ],
   "source": [
    "region = ee.Geometry.BBox(-51, -78.5, -41, -76.5) # Landfast ice in the Weddell Sea\n",
    "\n",
    "# # Mukund's ROI\n",
    "# bbox = [-10, 72.6, 12, 79.2]\n",
    "# # bbox = [-176.3, -76.3, -153.9, -74.4]\n",
    "# region = ee.Geometry.BBox(bbox[0], bbox[1], bbox[2], bbox[3]) #ee.Geometry.Rectangle(bbox)\n",
    "# point = ee.Geometry.Point([np.mean([bbox[0], bbox[2]]), np.mean([bbox[1], bbox[3]])]).buffer(20000)\n",
    "# # Approximately (72.6 to 79.2 N) and (-10 to 12 E) April to May 2023\n",
    "# # Approximately (-76.3 to -74.4 S) and (-176.3 to -153.9 W) November - December 2023\n",
    "\n",
    "# Grounded icebergs ROI\n",
    "# region = ee.Geometry.Point([-45.14359469618727,-76.48507480890505]).buffer(50000)\n",
    "\n",
    "# region = ee.Geometry.Polygon([\n",
    "#     [-51, -78.5], [-51, -76.5], [-41, -76.5], [-41, -78.5], [-51, -78.5]\n",
    "# ])\n",
    "\n",
    "# point = ee.Geometry.Point([-46, -77.5])\n",
    "\n",
    "collection = ee.ImageCollection(\"COPERNICUS/S1_GRD\")\\\n",
    ".filter(ee.Filter.eq('transmitterReceiverPolarisation', [\"HH\"]))\\\n",
    ".filterBounds(region)\n",
    "# .filter(ee.Filter.Or(ee.Filter.eq('relativeOrbitNumber_start', 5), ee.Filter.eq('relativeOrbitNumber_start', 34),\n",
    "#         ee.Filter.eq('relativeOrbitNumber_start', 136)))\n",
    "\n",
    "# 2016: 165\n",
    "# 2017: 5"
   ]
  },
  {
   "cell_type": "markdown",
   "id": "555a71a8-7c13-46ee-b817-83e29af7be6c",
   "metadata": {},
   "source": [
    "### Generate GIF time series"
   ]
  },
  {
   "cell_type": "code",
   "execution_count": 4,
   "id": "a7a918fc-b1aa-4378-892f-95bcf39383c6",
   "metadata": {},
   "outputs": [
    {
     "data": {
      "text/html": [
       "\n",
       "            <style>\n",
       "                .geemap-dark {\n",
       "                    --jp-widgets-color: white;\n",
       "                    --jp-widgets-label-color: white;\n",
       "                    --jp-ui-font-color1: white;\n",
       "                    --jp-layout-color2: #454545;\n",
       "                    background-color: #383838;\n",
       "                }\n",
       "\n",
       "                .geemap-dark .jupyter-button {\n",
       "                    --jp-layout-color3: #383838;\n",
       "                }\n",
       "\n",
       "                .geemap-colab {\n",
       "                    background-color: var(--colab-primary-surface-color, white);\n",
       "                }\n",
       "\n",
       "                .geemap-colab .jupyter-button {\n",
       "                    --jp-layout-color3: var(--colab-primary-surface-color, white);\n",
       "                }\n",
       "            </style>\n",
       "            "
      ],
      "text/plain": [
       "<IPython.core.display.HTML object>"
      ]
     },
     "metadata": {},
     "output_type": "display_data"
    }
   ],
   "source": [
    "def collection_addbands(img):\n",
    "    bands = img.bandNames() # First band ('HH' or 'VV')\n",
    "    band = [ee.Algorithms.If(bands.contains('HH'), 'HH', 'VV')]\n",
    "    norm = img.select(band).divide(img.select('angle')).rename('norm')\n",
    "    img2 = img.addBands(norm, overwrite=True).select('norm')\n",
    "    return img2\n",
    "\n",
    "def add_coverage(img):\n",
    "    \n",
    "    tol = 10000\n",
    "    overlap = img.geometry().intersection(region, tol)\n",
    "    ratio = overlap.area(tol).divide(region.area(tol))\n",
    "    return img.set({'coverage_ratio': ratio})\n",
    "\n",
    "# calculate coverage area of image to roi\n",
    "def coverage(img):\n",
    "    tol = 10000\n",
    "    overlap = img.geometry().intersection(region, tol)\n",
    "    ratio = overlap.area(tol).divide(region.area(tol))\n",
    "    return ratio.getInfo()"
   ]
  },
  {
   "cell_type": "code",
   "execution_count": 9,
   "id": "df8908e8-0d2c-40ca-b46e-4360030f5e36",
   "metadata": {},
   "outputs": [
    {
     "data": {
      "text/html": [
       "\n",
       "            <style>\n",
       "                .geemap-dark {\n",
       "                    --jp-widgets-color: white;\n",
       "                    --jp-widgets-label-color: white;\n",
       "                    --jp-ui-font-color1: white;\n",
       "                    --jp-layout-color2: #454545;\n",
       "                    background-color: #383838;\n",
       "                }\n",
       "\n",
       "                .geemap-dark .jupyter-button {\n",
       "                    --jp-layout-color3: #383838;\n",
       "                }\n",
       "\n",
       "                .geemap-colab {\n",
       "                    background-color: var(--colab-primary-surface-color, white);\n",
       "                }\n",
       "\n",
       "                .geemap-colab .jupyter-button {\n",
       "                    --jp-layout-color3: var(--colab-primary-surface-color, white);\n",
       "                }\n",
       "            </style>\n",
       "            "
      ],
      "text/plain": [
       "<IPython.core.display.HTML object>"
      ]
     },
     "metadata": {},
     "output_type": "display_data"
    },
    {
     "name": "stdout",
     "output_type": "stream",
     "text": [
      "2015-01-01 2015-04-01 46\n",
      "Generating URL...\n",
      "Downloading GIF image from https://earthengine.googleapis.com/v1/projects/earthengine-legacy/videoThumbnails/4f0aad8e615437bfe10e9a1462579427-703c1a2d007689806d33a2f77e97d4ee:getPixels\n",
      "Please wait ...\n",
      "The GIF image has been saved to: D:\\Floes\\S1\\S1_landfast_2015-01-01_2015-04-01.gif\n",
      "====================================================\n",
      "2015-04-01 2015-07-01 35\n",
      "Generating URL...\n",
      "Downloading GIF image from https://earthengine.googleapis.com/v1/projects/earthengine-legacy/videoThumbnails/74b6fa3f2ac73d5ffd097fc249049286-ae6d6735722f7b4f866786f6b606a9d8:getPixels\n",
      "Please wait ...\n",
      "The GIF image has been saved to: D:\\Floes\\S1\\S1_landfast_2015-04-01_2015-07-01.gif\n",
      "====================================================\n",
      "2015-07-01 2015-10-01 11\n",
      "Generating URL...\n",
      "Downloading GIF image from https://earthengine.googleapis.com/v1/projects/earthengine-legacy/videoThumbnails/669b00c8cfc9b70257de1ff5edb531a9-192c20dd352ca91e02f5311817cfdb09:getPixels\n",
      "Please wait ...\n",
      "The GIF image has been saved to: D:\\Floes\\S1\\S1_landfast_2015-07-01_2015-10-01.gif\n",
      "====================================================\n",
      "2015-10-01 2016-01-01 4\n",
      "Generating URL...\n",
      "Downloading GIF image from https://earthengine.googleapis.com/v1/projects/earthengine-legacy/videoThumbnails/d28559285d881e31a9322e0ad6908d17-f055a0c6eca5318b0e2175f1e0794995:getPixels\n",
      "Please wait ...\n",
      "The GIF image has been saved to: D:\\Floes\\S1\\S1_landfast_2015-10-01_2016-01-01.gif\n",
      "====================================================\n",
      "2016-01-01 2016-04-01 9\n",
      "Generating URL...\n",
      "Downloading GIF image from https://earthengine.googleapis.com/v1/projects/earthengine-legacy/videoThumbnails/83c15b671556fe7f0aec136aa2dfd58b-c5315c58d5a3de9392e5f0dea9bbc420:getPixels\n",
      "Please wait ...\n",
      "The GIF image has been saved to: D:\\Floes\\S1\\S1_landfast_2016-01-01_2016-04-01.gif\n",
      "====================================================\n",
      "2016-04-01 2016-07-01 12\n",
      "Generating URL...\n",
      "Downloading GIF image from https://earthengine.googleapis.com/v1/projects/earthengine-legacy/videoThumbnails/343aa1dd55283f9231944eb5170f5824-368c0eba8bf4178d1c7a429274d5d038:getPixels\n",
      "Please wait ...\n",
      "The GIF image has been saved to: D:\\Floes\\S1\\S1_landfast_2016-04-01_2016-07-01.gif\n",
      "====================================================\n",
      "2016-07-01 2016-10-01 11\n",
      "Generating URL...\n",
      "Downloading GIF image from https://earthengine.googleapis.com/v1/projects/earthengine-legacy/videoThumbnails/921ebd60b4e341d7d2a485e7d814ffae-d463135a5ca34dfac2f4ed32fde57a09:getPixels\n",
      "Please wait ...\n",
      "The GIF image has been saved to: D:\\Floes\\S1\\S1_landfast_2016-07-01_2016-10-01.gif\n",
      "====================================================\n",
      "2016-10-01 2017-01-01 23\n",
      "Generating URL...\n",
      "Downloading GIF image from https://earthengine.googleapis.com/v1/projects/earthengine-legacy/videoThumbnails/743cecee50c0b87792314e15acb46ad2-ceaaa33e49ba8dfb686b6a897c56b4ba:getPixels\n",
      "Please wait ...\n",
      "The GIF image has been saved to: D:\\Floes\\S1\\S1_landfast_2016-10-01_2017-01-01.gif\n",
      "====================================================\n",
      "2017-01-01 2017-04-01 41\n",
      "Generating URL...\n",
      "Downloading GIF image from https://earthengine.googleapis.com/v1/projects/earthengine-legacy/videoThumbnails/d6a97118e69f1dc274867e69a8630053-fac21eb537910e41520b900706fe6eae:getPixels\n",
      "Please wait ...\n",
      "The GIF image has been saved to: D:\\Floes\\S1\\S1_landfast_2017-01-01_2017-04-01.gif\n",
      "====================================================\n",
      "2017-04-01 2017-07-01 54\n",
      "Generating URL...\n",
      "Downloading GIF image from https://earthengine.googleapis.com/v1/projects/earthengine-legacy/videoThumbnails/e062da2f2e4b8d51645270c23370f4dd-852023b455e12f5ca2173645cbe9a2df:getPixels\n",
      "Please wait ...\n",
      "The GIF image has been saved to: D:\\Floes\\S1\\S1_landfast_2017-04-01_2017-07-01.gif\n",
      "====================================================\n",
      "2017-07-01 2017-10-01 48\n",
      "Generating URL...\n",
      "Downloading GIF image from https://earthengine.googleapis.com/v1/projects/earthengine-legacy/videoThumbnails/3bb96eb25bcde269ddefafd4d13c43d7-7405a7d17b7456bb56a452354b44c95e:getPixels\n",
      "Please wait ...\n",
      "The GIF image has been saved to: D:\\Floes\\S1\\S1_landfast_2017-07-01_2017-10-01.gif\n",
      "====================================================\n",
      "2017-10-01 2018-01-01 51\n",
      "Generating URL...\n",
      "Downloading GIF image from https://earthengine.googleapis.com/v1/projects/earthengine-legacy/videoThumbnails/58ee91705994cd372dc6af1e1ab67279-605390770e400f20e4f15d292d5ee00e:getPixels\n",
      "Please wait ...\n",
      "The GIF image has been saved to: D:\\Floes\\S1\\S1_landfast_2017-10-01_2018-01-01.gif\n",
      "====================================================\n",
      "DONE!\n"
     ]
    }
   ],
   "source": [
    "for year in np.arange(2015, 2018):\n",
    "    step = 3\n",
    "    for month in range(1, 13, step):\n",
    "        start_date = f\"{year}-{str(month).zfill(2)}-01\"\n",
    "        if month < 12-step:\n",
    "            end_date = f\"{year}-{str(month+step).zfill(2)}-01\"\n",
    "        else:\n",
    "            end_date = f\"{year+1}-01-01\"\n",
    "        \n",
    "        collection0 = ee.ImageCollection(\"COPERNICUS/S1_GRD\").filterBounds(region).filterDate(start_date, end_date)\n",
    "        collection1 = collection0.map(collection_addbands)\n",
    "        collection = collection1.map(add_coverage).filter(ee.Filter.gt('coverage_ratio', 0.5))\n",
    "\n",
    "        video_args = {\n",
    "            \"dimensions\": 600,\n",
    "            \"region\": region,\n",
    "            \"framesPerSecond\": 1.5,\n",
    "            \"bands\": \"norm\",\n",
    "            \"crs\": \"EPSG:3857\", #\n",
    "            \"min\": -0.8,\n",
    "            \"max\": -0.2,\n",
    "            \"gamma\": 1    \n",
    "        }\n",
    "        \n",
    "        images = geemap.create_timeseries(\n",
    "            collection, start_date, end_date, region, frequency=\"day\", reducer=\"median\"\n",
    "        )\n",
    "        \n",
    "        s = images.aggregate_array('system:time_start').getInfo()\n",
    "        \n",
    "        days = []\n",
    "        for sec in s:\n",
    "            d = dt.datetime(1970, 1, 1) + dt.timedelta(seconds = sec / 1000)\n",
    "            days.append(d.strftime(\"%Y-%m-%d\"))\n",
    "        \n",
    "        print(start_date, end_date, images.size().getInfo())\n",
    "        \n",
    "        work_dir = \"D:\\\\Floes\\\\S1\"\n",
    "        \n",
    "        out_gif = os.path.join(work_dir, f\"S1_landfast_{start_date}_{end_date}.gif\")\n",
    "        geemap.download_ee_video(images, video_args, out_gif)\n",
    "        \n",
    "        texted_gif = out_gif.replace(\".gif\", \"_text.gif\") #os.path.join(work_dir, f\"S1_{hs}_{start_date}_{end_date}_text.gif\")\n",
    "        geemap.add_text_to_gif(\n",
    "            out_gif,\n",
    "            texted_gif,\n",
    "            xy=(\"3%\", \"3%\"),\n",
    "            text_sequence=days,\n",
    "            font_size=24,\n",
    "            duration=800,\n",
    "            font_color=\"#ff0000\",\n",
    "            add_progress_bar=False,\n",
    "        )\n",
    "\n",
    "        if os.path.exists(out_gif):\n",
    "            os.remove(out_gif)\n",
    "        \n",
    "        print(\"====================================================\")\n",
    "\n",
    "print(\"DONE!\")"
   ]
  },
  {
   "cell_type": "code",
   "execution_count": 22,
   "id": "b15944c5-1d31-4ea8-a53e-fbc436983687",
   "metadata": {},
   "outputs": [
    {
     "data": {
      "text/html": [
       "\n",
       "            <style>\n",
       "                .geemap-dark {\n",
       "                    --jp-widgets-color: white;\n",
       "                    --jp-widgets-label-color: white;\n",
       "                    --jp-ui-font-color1: white;\n",
       "                    --jp-layout-color2: #454545;\n",
       "                    background-color: #383838;\n",
       "                }\n",
       "\n",
       "                .geemap-dark .jupyter-button {\n",
       "                    --jp-layout-color3: #383838;\n",
       "                }\n",
       "\n",
       "                .geemap-colab {\n",
       "                    background-color: var(--colab-primary-surface-color, white);\n",
       "                }\n",
       "\n",
       "                .geemap-colab .jupyter-button {\n",
       "                    --jp-layout-color3: var(--colab-primary-surface-color, white);\n",
       "                }\n",
       "            </style>\n",
       "            "
      ],
      "text/plain": [
       "<IPython.core.display.HTML object>"
      ]
     },
     "metadata": {},
     "output_type": "display_data"
    }
   ],
   "source": [
    "import imageio.v3 as iio\n",
    "import numpy as np\n",
    "import glob\n",
    "\n",
    "gif_files = glob.glob(\"D:\\\\Floes\\\\S1\\\\S1_landfast_20*.gif\")\n",
    "combined = [iio.imread(f) for f in gif_files]\n",
    "\n",
    "frames = np.vstack(combined)\n",
    "\n",
    "# get duration each frame is displayed\n",
    "duration = iio.immeta(gif_files[0])[\"duration\"]/2\n",
    "\n",
    "iio.imwrite(\"D:\\\\Floes\\\\S1\\\\S1_landfast_combined.gif\", frames, duration=duration)"
   ]
  },
  {
   "cell_type": "code",
   "execution_count": 18,
   "id": "cdbed481-c554-458f-a966-819082def4ad",
   "metadata": {},
   "outputs": [
    {
     "data": {
      "text/html": [
       "\n",
       "            <style>\n",
       "                .geemap-dark {\n",
       "                    --jp-widgets-color: white;\n",
       "                    --jp-widgets-label-color: white;\n",
       "                    --jp-ui-font-color1: white;\n",
       "                    --jp-layout-color2: #454545;\n",
       "                    background-color: #383838;\n",
       "                }\n",
       "\n",
       "                .geemap-dark .jupyter-button {\n",
       "                    --jp-layout-color3: #383838;\n",
       "                }\n",
       "\n",
       "                .geemap-colab {\n",
       "                    background-color: var(--colab-primary-surface-color, white);\n",
       "                }\n",
       "\n",
       "                .geemap-colab .jupyter-button {\n",
       "                    --jp-layout-color3: var(--colab-primary-surface-color, white);\n",
       "                }\n",
       "            </style>\n",
       "            "
      ],
      "text/plain": [
       "<IPython.core.display.HTML object>"
      ]
     },
     "metadata": {},
     "output_type": "display_data"
    },
    {
     "data": {
      "text/plain": [
       "(None, None)"
      ]
     },
     "execution_count": 18,
     "metadata": {},
     "output_type": "execute_result"
    }
   ],
   "source": [
    "import ffmpy\n",
    "\n",
    "ff = ffmpy.FFmpeg(inputs={\"D:\\\\Floes\\\\S1\\\\S1_landfast_combined.gif\": None},\n",
    "                  outputs={\"D:\\\\Floes\\\\S1\\\\S1_landfast_video.mp4\": None})\n",
    "ff.run()"
   ]
  },
  {
   "cell_type": "code",
   "execution_count": null,
   "id": "898ad781-8aff-41d2-b60f-df8b36a64300",
   "metadata": {},
   "outputs": [],
   "source": [
    "import moviepy.editor as mp\n",
    "\n",
    "clip = mp.VideoFileClip(\"D:\\\\Floes\\\\S1\\\\S1_landfast_combined.gif\")\n",
    "clip.write_videofile(\"D:\\\\Floes\\\\S1\\\\S1_landfast_video.mp4\")"
   ]
  },
  {
   "cell_type": "code",
   "execution_count": 7,
   "id": "7d062811-e897-4a52-a6e9-5a53e7c2d57d",
   "metadata": {},
   "outputs": [
    {
     "data": {
      "text/html": [
       "\n",
       "            <style>\n",
       "                .geemap-dark {\n",
       "                    --jp-widgets-color: white;\n",
       "                    --jp-widgets-label-color: white;\n",
       "                    --jp-ui-font-color1: white;\n",
       "                    --jp-layout-color2: #454545;\n",
       "                    background-color: #383838;\n",
       "                }\n",
       "\n",
       "                .geemap-dark .jupyter-button {\n",
       "                    --jp-layout-color3: #383838;\n",
       "                }\n",
       "\n",
       "                .geemap-colab {\n",
       "                    background-color: var(--colab-primary-surface-color, white);\n",
       "                }\n",
       "\n",
       "                .geemap-colab .jupyter-button {\n",
       "                    --jp-layout-color3: var(--colab-primary-surface-color, white);\n",
       "                }\n",
       "            </style>\n",
       "            "
      ],
      "text/plain": [
       "<IPython.core.display.HTML object>"
      ]
     },
     "metadata": {},
     "output_type": "display_data"
    }
   ],
   "source": [
    "start_date = \"2015-04-01\"\n",
    "end_date = \"2017-07-01\"\n",
    "region = ee.Geometry.BBox(-51, -78.5, -41, -76.5)"
   ]
  },
  {
   "cell_type": "code",
   "execution_count": 8,
   "id": "3c5e8f90-0c34-4c41-b818-a82aceca93e5",
   "metadata": {},
   "outputs": [
    {
     "data": {
      "text/html": [
       "\n",
       "            <style>\n",
       "                .geemap-dark {\n",
       "                    --jp-widgets-color: white;\n",
       "                    --jp-widgets-label-color: white;\n",
       "                    --jp-ui-font-color1: white;\n",
       "                    --jp-layout-color2: #454545;\n",
       "                    background-color: #383838;\n",
       "                }\n",
       "\n",
       "                .geemap-dark .jupyter-button {\n",
       "                    --jp-layout-color3: #383838;\n",
       "                }\n",
       "\n",
       "                .geemap-colab {\n",
       "                    background-color: var(--colab-primary-surface-color, white);\n",
       "                }\n",
       "\n",
       "                .geemap-colab .jupyter-button {\n",
       "                    --jp-layout-color3: var(--colab-primary-surface-color, white);\n",
       "                }\n",
       "            </style>\n",
       "            "
      ],
      "text/plain": [
       "<IPython.core.display.HTML object>"
      ]
     },
     "metadata": {},
     "output_type": "display_data"
    },
    {
     "name": "stdout",
     "output_type": "stream",
     "text": [
      "63\n"
     ]
    }
   ],
   "source": [
    "images = geemap.create_timeseries(\n",
    "    collection, start_date, end_date, region, frequency=\"day\", reducer=\"median\"\n",
    ")\n",
    "\n",
    "s = images.aggregate_array('system:time_start').getInfo()\n",
    "days = []\n",
    "for sec in s:\n",
    "    d = dt.datetime(1970, 1, 1) + dt.timedelta(seconds = sec / 1000)\n",
    "    days.append(d.strftime(\"%Y-%m-%d\"))\n",
    "\n",
    "print(images.size().getInfo())"
   ]
  },
  {
   "cell_type": "code",
   "execution_count": 9,
   "id": "1ceb724c-a1d3-4a54-b957-1f0b20ea7cef",
   "metadata": {},
   "outputs": [
    {
     "data": {
      "text/html": [
       "\n",
       "            <style>\n",
       "                .geemap-dark {\n",
       "                    --jp-widgets-color: white;\n",
       "                    --jp-widgets-label-color: white;\n",
       "                    --jp-ui-font-color1: white;\n",
       "                    --jp-layout-color2: #454545;\n",
       "                    background-color: #383838;\n",
       "                }\n",
       "\n",
       "                .geemap-dark .jupyter-button {\n",
       "                    --jp-layout-color3: #383838;\n",
       "                }\n",
       "\n",
       "                .geemap-colab {\n",
       "                    background-color: var(--colab-primary-surface-color, white);\n",
       "                }\n",
       "\n",
       "                .geemap-colab .jupyter-button {\n",
       "                    --jp-layout-color3: var(--colab-primary-surface-color, white);\n",
       "                }\n",
       "            </style>\n",
       "            "
      ],
      "text/plain": [
       "<IPython.core.display.HTML object>"
      ]
     },
     "metadata": {},
     "output_type": "display_data"
    }
   ],
   "source": [
    "\n",
    "# Define arguments for animation function parameters.\n",
    "video_args = {\n",
    "    \"dimensions\": 600,\n",
    "    \"region\": region,\n",
    "    \"framesPerSecond\": 2,\n",
    "    \"bands\": [\"HH\"],\n",
    "    \"crs\":'EPSG:3857',\n",
    "    \"min\": -25,\n",
    "    \"max\": -5,\n",
    "    \"gamma\": 1\n",
    "    \n",
    "}"
   ]
  },
  {
   "cell_type": "code",
   "execution_count": 10,
   "id": "10df3ceb-e5b0-4efc-92d0-b263ec3fbec3",
   "metadata": {},
   "outputs": [
    {
     "data": {
      "text/html": [
       "\n",
       "            <style>\n",
       "                .geemap-dark {\n",
       "                    --jp-widgets-color: white;\n",
       "                    --jp-widgets-label-color: white;\n",
       "                    --jp-ui-font-color1: white;\n",
       "                    --jp-layout-color2: #454545;\n",
       "                    background-color: #383838;\n",
       "                }\n",
       "\n",
       "                .geemap-dark .jupyter-button {\n",
       "                    --jp-layout-color3: #383838;\n",
       "                }\n",
       "\n",
       "                .geemap-colab {\n",
       "                    background-color: var(--colab-primary-surface-color, white);\n",
       "                }\n",
       "\n",
       "                .geemap-colab .jupyter-button {\n",
       "                    --jp-layout-color3: var(--colab-primary-surface-color, white);\n",
       "                }\n",
       "            </style>\n",
       "            "
      ],
      "text/plain": [
       "<IPython.core.display.HTML object>"
      ]
     },
     "metadata": {},
     "output_type": "display_data"
    }
   ],
   "source": [
    "work_dir = \"D:\\\\Floes\\\\figures\" #os.path.join(os.path.expanduser(\"~\"), \"Downloads\")\n",
    "if not os.path.exists(work_dir):\n",
    "    os.makedirs(work_dir)\n",
    "out_gif = os.path.join(work_dir, f\"sentienl1_{start_date}_{end_date}.gif\")"
   ]
  },
  {
   "cell_type": "code",
   "execution_count": 11,
   "id": "fecc1dbf-60a7-42b9-ac8c-7496e70cd825",
   "metadata": {},
   "outputs": [
    {
     "data": {
      "text/html": [
       "\n",
       "            <style>\n",
       "                .geemap-dark {\n",
       "                    --jp-widgets-color: white;\n",
       "                    --jp-widgets-label-color: white;\n",
       "                    --jp-ui-font-color1: white;\n",
       "                    --jp-layout-color2: #454545;\n",
       "                    background-color: #383838;\n",
       "                }\n",
       "\n",
       "                .geemap-dark .jupyter-button {\n",
       "                    --jp-layout-color3: #383838;\n",
       "                }\n",
       "\n",
       "                .geemap-colab {\n",
       "                    background-color: var(--colab-primary-surface-color, white);\n",
       "                }\n",
       "\n",
       "                .geemap-colab .jupyter-button {\n",
       "                    --jp-layout-color3: var(--colab-primary-surface-color, white);\n",
       "                }\n",
       "            </style>\n",
       "            "
      ],
      "text/plain": [
       "<IPython.core.display.HTML object>"
      ]
     },
     "metadata": {},
     "output_type": "display_data"
    },
    {
     "name": "stdout",
     "output_type": "stream",
     "text": [
      "Generating URL...\n",
      "Downloading GIF image from https://earthengine.googleapis.com/v1/projects/earthengine-legacy/videoThumbnails/58da129e2c3b94372204b750cf9223a9-d7202676229ce9a3d44a8da6214a7749:getPixels\n",
      "Please wait ...\n",
      "The GIF image has been saved to: D:\\Floes\\figures\\sentienl1_2017-04-01_2017-07-01.gif\n"
     ]
    }
   ],
   "source": [
    "geemap.download_ee_video(images, video_args, out_gif)"
   ]
  },
  {
   "cell_type": "code",
   "execution_count": 12,
   "id": "c554c46a-e3e4-4425-90f8-f5179db0832f",
   "metadata": {},
   "outputs": [
    {
     "data": {
      "text/html": [
       "\n",
       "            <style>\n",
       "                .geemap-dark {\n",
       "                    --jp-widgets-color: white;\n",
       "                    --jp-widgets-label-color: white;\n",
       "                    --jp-ui-font-color1: white;\n",
       "                    --jp-layout-color2: #454545;\n",
       "                    background-color: #383838;\n",
       "                }\n",
       "\n",
       "                .geemap-dark .jupyter-button {\n",
       "                    --jp-layout-color3: #383838;\n",
       "                }\n",
       "\n",
       "                .geemap-colab {\n",
       "                    background-color: var(--colab-primary-surface-color, white);\n",
       "                }\n",
       "\n",
       "                .geemap-colab .jupyter-button {\n",
       "                    --jp-layout-color3: var(--colab-primary-surface-color, white);\n",
       "                }\n",
       "            </style>\n",
       "            "
      ],
      "text/plain": [
       "<IPython.core.display.HTML object>"
      ]
     },
     "metadata": {},
     "output_type": "display_data"
    },
    {
     "data": {
      "application/vnd.jupyter.widget-view+json": {
       "model_id": "f3d4036689c24820ad8e5c375d651d13",
       "version_major": 2,
       "version_minor": 0
      },
      "text/plain": [
       "Output()"
      ]
     },
     "metadata": {},
     "output_type": "display_data"
    },
    {
     "data": {
      "application/vnd.jupyter.widget-view+json": {
       "model_id": "4cc612556aaa45749f59544c2a434ce4",
       "version_major": 2,
       "version_minor": 0
      },
      "text/plain": [
       "Image(value=b'GIF89aX\\x02,\\x02\\x87\\x1f\\x00\\xff\\xff\\xff\\xfe\\xfe\\xfe\\xfd\\xfd\\xfd\\xfc\\xfc\\xfc\\xfb\\xfb\\xfb\\xfa\\xfa…"
      ]
     },
     "metadata": {},
     "output_type": "display_data"
    }
   ],
   "source": [
    "texted_gif = os.path.join(work_dir, f\"sentienl1_{start_date}_{end_date}_text.gif\")\n",
    "geemap.add_text_to_gif(\n",
    "    out_gif,\n",
    "    texted_gif,\n",
    "    xy=(\"3%\", \"5%\"),\n",
    "    text_sequence=days,\n",
    "    font_size=20,\n",
    "    duration=800,\n",
    "    font_color=\"#ffffff\",\n",
    "    add_progress_bar=False,\n",
    ")\n",
    "\n",
    "geemap.show_image(texted_gif)"
   ]
  },
  {
   "cell_type": "code",
   "execution_count": null,
   "id": "8efcc318-0055-4158-a60c-46b3836df954",
   "metadata": {},
   "outputs": [],
   "source": []
  },
  {
   "cell_type": "code",
   "execution_count": null,
   "id": "9deb9e2b-049c-4ddd-9ef0-9e846a04eec9",
   "metadata": {},
   "outputs": [],
   "source": []
  },
  {
   "cell_type": "code",
   "execution_count": null,
   "id": "f5d062fe-19fd-43e2-aafd-2c4cc1362137",
   "metadata": {},
   "outputs": [],
   "source": []
  },
  {
   "cell_type": "code",
   "execution_count": null,
   "id": "de6093dc-3280-4766-b10d-68336ecf9149",
   "metadata": {},
   "outputs": [],
   "source": []
  },
  {
   "cell_type": "code",
   "execution_count": 30,
   "id": "64a854aa-c72a-47e7-8279-5344fd7ad57e",
   "metadata": {},
   "outputs": [
    {
     "data": {
      "text/html": [
       "\n",
       "            <style>\n",
       "                .geemap-dark {\n",
       "                    --jp-widgets-color: white;\n",
       "                    --jp-widgets-label-color: white;\n",
       "                    --jp-ui-font-color1: white;\n",
       "                    --jp-layout-color2: #454545;\n",
       "                    background-color: #383838;\n",
       "                }\n",
       "\n",
       "                .geemap-dark .jupyter-button {\n",
       "                    --jp-layout-color3: #383838;\n",
       "                }\n",
       "\n",
       "                .geemap-colab {\n",
       "                    background-color: var(--colab-primary-surface-color, white);\n",
       "                }\n",
       "\n",
       "                .geemap-colab .jupyter-button {\n",
       "                    --jp-layout-color3: var(--colab-primary-surface-color, white);\n",
       "                }\n",
       "            </style>\n",
       "            "
      ],
      "text/plain": [
       "<IPython.core.display.HTML object>"
      ]
     },
     "metadata": {},
     "output_type": "display_data"
    },
    {
     "name": "stdout",
     "output_type": "stream",
     "text": [
      "Total number of images: 61\n",
      "\n",
      "Downloading 1/61: C:\\Users\\yok223\\Research\\Floes\\sentinel1_01.jpg ...\n",
      "Downloading 2/61: C:\\Users\\yok223\\Research\\Floes\\sentinel1_02.jpg ...\n",
      "Downloading 3/61: C:\\Users\\yok223\\Research\\Floes\\sentinel1_03.jpg ...\n",
      "Downloading 4/61: C:\\Users\\yok223\\Research\\Floes\\sentinel1_04.jpg ...\n",
      "Downloading 5/61: C:\\Users\\yok223\\Research\\Floes\\sentinel1_05.jpg ...\n",
      "Downloading 6/61: C:\\Users\\yok223\\Research\\Floes\\sentinel1_06.jpg ...\n",
      "Downloading 7/61: C:\\Users\\yok223\\Research\\Floes\\sentinel1_07.jpg ...\n",
      "Downloading 8/61: C:\\Users\\yok223\\Research\\Floes\\sentinel1_08.jpg ...\n",
      "Downloading 9/61: C:\\Users\\yok223\\Research\\Floes\\sentinel1_09.jpg ...\n",
      "Downloading 10/61: C:\\Users\\yok223\\Research\\Floes\\sentinel1_10.jpg ...\n",
      "Downloading 11/61: C:\\Users\\yok223\\Research\\Floes\\sentinel1_11.jpg ...\n",
      "Downloading 12/61: C:\\Users\\yok223\\Research\\Floes\\sentinel1_12.jpg ...\n",
      "Downloading 13/61: C:\\Users\\yok223\\Research\\Floes\\sentinel1_13.jpg ...\n",
      "Downloading 14/61: C:\\Users\\yok223\\Research\\Floes\\sentinel1_14.jpg ...\n",
      "Downloading 15/61: C:\\Users\\yok223\\Research\\Floes\\sentinel1_15.jpg ...\n",
      "Downloading 16/61: C:\\Users\\yok223\\Research\\Floes\\sentinel1_16.jpg ...\n",
      "Downloading 17/61: C:\\Users\\yok223\\Research\\Floes\\sentinel1_17.jpg ...\n",
      "Downloading 18/61: C:\\Users\\yok223\\Research\\Floes\\sentinel1_18.jpg ...\n",
      "Downloading 19/61: C:\\Users\\yok223\\Research\\Floes\\sentinel1_19.jpg ...\n",
      "Downloading 20/61: C:\\Users\\yok223\\Research\\Floes\\sentinel1_20.jpg ...\n",
      "Downloading 21/61: C:\\Users\\yok223\\Research\\Floes\\sentinel1_21.jpg ...\n",
      "Downloading 22/61: C:\\Users\\yok223\\Research\\Floes\\sentinel1_22.jpg ...\n",
      "Downloading 23/61: C:\\Users\\yok223\\Research\\Floes\\sentinel1_23.jpg ...\n",
      "Downloading 24/61: C:\\Users\\yok223\\Research\\Floes\\sentinel1_24.jpg ...\n",
      "Downloading 25/61: C:\\Users\\yok223\\Research\\Floes\\sentinel1_25.jpg ...\n",
      "Downloading 26/61: C:\\Users\\yok223\\Research\\Floes\\sentinel1_26.jpg ...\n",
      "Downloading 27/61: C:\\Users\\yok223\\Research\\Floes\\sentinel1_27.jpg ...\n",
      "Downloading 28/61: C:\\Users\\yok223\\Research\\Floes\\sentinel1_28.jpg ...\n",
      "Downloading 29/61: C:\\Users\\yok223\\Research\\Floes\\sentinel1_29.jpg ...\n",
      "Downloading 30/61: C:\\Users\\yok223\\Research\\Floes\\sentinel1_30.jpg ...\n",
      "Downloading 31/61: C:\\Users\\yok223\\Research\\Floes\\sentinel1_31.jpg ...\n",
      "Downloading 32/61: C:\\Users\\yok223\\Research\\Floes\\sentinel1_32.jpg ...\n",
      "Downloading 33/61: C:\\Users\\yok223\\Research\\Floes\\sentinel1_33.jpg ...\n",
      "Downloading 34/61: C:\\Users\\yok223\\Research\\Floes\\sentinel1_34.jpg ...\n",
      "Downloading 35/61: C:\\Users\\yok223\\Research\\Floes\\sentinel1_35.jpg ...\n",
      "Downloading 36/61: C:\\Users\\yok223\\Research\\Floes\\sentinel1_36.jpg ...\n",
      "Downloading 37/61: C:\\Users\\yok223\\Research\\Floes\\sentinel1_37.jpg ...\n",
      "Downloading 38/61: C:\\Users\\yok223\\Research\\Floes\\sentinel1_38.jpg ...\n",
      "Downloading 39/61: C:\\Users\\yok223\\Research\\Floes\\sentinel1_39.jpg ...\n",
      "Downloading 40/61: C:\\Users\\yok223\\Research\\Floes\\sentinel1_40.jpg ...\n",
      "Downloading 41/61: C:\\Users\\yok223\\Research\\Floes\\sentinel1_41.jpg ...\n",
      "Downloading 42/61: C:\\Users\\yok223\\Research\\Floes\\sentinel1_42.jpg ...\n",
      "Downloading 43/61: C:\\Users\\yok223\\Research\\Floes\\sentinel1_43.jpg ...\n",
      "Downloading 44/61: C:\\Users\\yok223\\Research\\Floes\\sentinel1_44.jpg ...\n",
      "Downloading 45/61: C:\\Users\\yok223\\Research\\Floes\\sentinel1_45.jpg ...\n",
      "Downloading 46/61: C:\\Users\\yok223\\Research\\Floes\\sentinel1_46.jpg ...\n",
      "Downloading 47/61: C:\\Users\\yok223\\Research\\Floes\\sentinel1_47.jpg ...\n",
      "Downloading 48/61: C:\\Users\\yok223\\Research\\Floes\\sentinel1_48.jpg ...\n",
      "Downloading 49/61: C:\\Users\\yok223\\Research\\Floes\\sentinel1_49.jpg ...\n",
      "Downloading 50/61: C:\\Users\\yok223\\Research\\Floes\\sentinel1_50.jpg ...\n",
      "Downloading 51/61: C:\\Users\\yok223\\Research\\Floes\\sentinel1_51.jpg ...\n",
      "Downloading 52/61: C:\\Users\\yok223\\Research\\Floes\\sentinel1_52.jpg ...\n",
      "Downloading 53/61: C:\\Users\\yok223\\Research\\Floes\\sentinel1_53.jpg ...\n",
      "Downloading 54/61: C:\\Users\\yok223\\Research\\Floes\\sentinel1_54.jpg ...\n",
      "Downloading 55/61: C:\\Users\\yok223\\Research\\Floes\\sentinel1_55.jpg ...\n",
      "Downloading 56/61: C:\\Users\\yok223\\Research\\Floes\\sentinel1_56.jpg ...\n",
      "Downloading 57/61: C:\\Users\\yok223\\Research\\Floes\\sentinel1_57.jpg ...\n",
      "Downloading 58/61: C:\\Users\\yok223\\Research\\Floes\\sentinel1_58.jpg ...\n",
      "Downloading 59/61: C:\\Users\\yok223\\Research\\Floes\\sentinel1_59.jpg ...\n",
      "Downloading 60/61: C:\\Users\\yok223\\Research\\Floes\\sentinel1_60.jpg ...\n",
      "Downloading 61/61: C:\\Users\\yok223\\Research\\Floes\\sentinel1_61.jpg ...\n",
      "ffmpeg is not installed on your computer.\n"
     ]
    }
   ],
   "source": [
    "timelapse = geemap.sentinel1_timelapse(\n",
    "    region,\n",
    "    out_gif=\"sentinel1.gif\",\n",
    "    start_year=2018,\n",
    "    end_year=2019,\n",
    "    start_date=\"01-01\",\n",
    "    end_date=\"03-01\",\n",
    "    dimensions=1000,\n",
    "    frequency=\"week\",\n",
    "    bands=['HH'],\n",
    "    reducer='first',\n",
    "    vis_params={\"min\": -25, \"max\": -5},\n",
    "    palette=\"Greys\",\n",
    "    frames_per_second=1.5,\n",
    "    title=\"Sentinel-1 Timelapse\",\n",
    "    add_colorbar=True,\n",
    "    colorbar_bg_color=\"gray\",\n",
    ")\n",
    "\n",
    "print(\"DONE!\")"
   ]
  },
  {
   "cell_type": "code",
   "execution_count": 31,
   "id": "5f60c754-6e93-434f-a6be-f0adb8ff534f",
   "metadata": {},
   "outputs": [
    {
     "data": {
      "text/html": [
       "\n",
       "            <style>\n",
       "                .geemap-dark {\n",
       "                    --jp-widgets-color: white;\n",
       "                    --jp-widgets-label-color: white;\n",
       "                    --jp-ui-font-color1: white;\n",
       "                    --jp-layout-color2: #454545;\n",
       "                    background-color: #383838;\n",
       "                }\n",
       "\n",
       "                .geemap-dark .jupyter-button {\n",
       "                    --jp-layout-color3: #383838;\n",
       "                }\n",
       "\n",
       "                .geemap-colab {\n",
       "                    background-color: var(--colab-primary-surface-color, white);\n",
       "                }\n",
       "\n",
       "                .geemap-colab .jupyter-button {\n",
       "                    --jp-layout-color3: var(--colab-primary-surface-color, white);\n",
       "                }\n",
       "            </style>\n",
       "            "
      ],
      "text/plain": [
       "<IPython.core.display.HTML object>"
      ]
     },
     "metadata": {},
     "output_type": "display_data"
    },
    {
     "data": {
      "application/vnd.jupyter.widget-view+json": {
       "model_id": "d936b29cd817414da2c43254decdde67",
       "version_major": 2,
       "version_minor": 0
      },
      "text/plain": [
       "Output()"
      ]
     },
     "metadata": {},
     "output_type": "display_data"
    }
   ],
   "source": [
    "geemap.show_image(timelapse)"
   ]
  }
 ],
 "metadata": {
  "kernelspec": {
   "display_name": "Python 3 (ipykernel)",
   "language": "python",
   "name": "python3"
  },
  "language_info": {
   "codemirror_mode": {
    "name": "ipython",
    "version": 3
   },
   "file_extension": ".py",
   "mimetype": "text/x-python",
   "name": "python",
   "nbconvert_exporter": "python",
   "pygments_lexer": "ipython3",
   "version": "3.10.14"
  }
 },
 "nbformat": 4,
 "nbformat_minor": 5
}
