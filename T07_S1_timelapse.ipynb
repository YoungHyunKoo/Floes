{
 "cells": [
  {
   "cell_type": "markdown",
   "id": "450ddab2-18d9-4d6c-a4b8-0c8274ebc611",
   "metadata": {},
   "source": [
    "## Import necessary libraries"
   ]
  },
  {
   "cell_type": "code",
   "execution_count": 1,
   "id": "ca6320d9-c0b9-4703-a79f-0f431779a2d9",
   "metadata": {},
   "outputs": [],
   "source": [
    "import ee\n",
    "import geemap\n",
    "import os\n",
    "import datetime as dt\n",
    "import numpy as np"
   ]
  },
  {
   "cell_type": "code",
   "execution_count": 19,
   "id": "ec6955d6-30dd-4811-bfff-c341ddc59d70",
   "metadata": {},
   "outputs": [
    {
     "data": {
      "text/html": [
       "\n",
       "            <style>\n",
       "                .geemap-dark {\n",
       "                    --jp-widgets-color: white;\n",
       "                    --jp-widgets-label-color: white;\n",
       "                    --jp-ui-font-color1: white;\n",
       "                    --jp-layout-color2: #454545;\n",
       "                    background-color: #383838;\n",
       "                }\n",
       "\n",
       "                .geemap-dark .jupyter-button {\n",
       "                    --jp-layout-color3: #383838;\n",
       "                }\n",
       "\n",
       "                .geemap-colab {\n",
       "                    background-color: var(--colab-primary-surface-color, white);\n",
       "                }\n",
       "\n",
       "                .geemap-colab .jupyter-button {\n",
       "                    --jp-layout-color3: var(--colab-primary-surface-color, white);\n",
       "                }\n",
       "            </style>\n",
       "            "
      ],
      "text/plain": [
       "<IPython.core.display.HTML object>"
      ]
     },
     "metadata": {},
     "output_type": "display_data"
    },
    {
     "name": "stdout",
     "output_type": "stream",
     "text": [
      "Collecting ffmpeg-python\n",
      "  Downloading ffmpeg_python-0.2.0-py3-none-any.whl.metadata (1.7 kB)\n",
      "Requirement already satisfied: future in c:\\users\\yok223\\anaconda3\\envs\\mygpu\\lib\\site-packages (from ffmpeg-python) (1.0.0)\n",
      "Downloading ffmpeg_python-0.2.0-py3-none-any.whl (25 kB)\n",
      "Installing collected packages: ffmpeg-python\n",
      "Successfully installed ffmpeg-python-0.2.0\n"
     ]
    }
   ],
   "source": [
    "!pip install ffmpeg-python"
   ]
  },
  {
   "cell_type": "code",
   "execution_count": 4,
   "id": "c5ef8f02-5d59-4c21-8415-383982a1fb79",
   "metadata": {},
   "outputs": [
    {
     "data": {
      "text/html": [
       "\n",
       "            <style>\n",
       "                .geemap-dark {\n",
       "                    --jp-widgets-color: white;\n",
       "                    --jp-widgets-label-color: white;\n",
       "                    --jp-ui-font-color1: white;\n",
       "                    --jp-layout-color2: #454545;\n",
       "                    background-color: #383838;\n",
       "                }\n",
       "\n",
       "                .geemap-dark .jupyter-button {\n",
       "                    --jp-layout-color3: #383838;\n",
       "                }\n",
       "\n",
       "                .geemap-colab {\n",
       "                    background-color: var(--colab-primary-surface-color, white);\n",
       "                }\n",
       "\n",
       "                .geemap-colab .jupyter-button {\n",
       "                    --jp-layout-color3: var(--colab-primary-surface-color, white);\n",
       "                }\n",
       "            </style>\n",
       "            "
      ],
      "text/plain": [
       "<IPython.core.display.HTML object>"
      ]
     },
     "metadata": {},
     "output_type": "display_data"
    },
    {
     "data": {
      "text/html": [
       "<p>To authorize access needed by Earth Engine, open the following\n",
       "        URL in a web browser and follow the instructions:</p>\n",
       "        <p><a href=https://code.earthengine.google.com/client-auth?scopes=https%3A//www.googleapis.com/auth/earthengine%20https%3A//www.googleapis.com/auth/cloud-platform%20https%3A//www.googleapis.com/auth/devstorage.full_control&request_id=RzJxIcHGa_PG_6qH5JsbdOORUKfqPwYyVj0YHiuzfmA&tc=gF3Fk8qWVrP6Krc2IWhvzGtLaiVREjEqfT-r_sIZ61c&cc=3B-SrqB2WPfBU4okdgOWcs5iqv-trEldolZxovL-TO0>https://code.earthengine.google.com/client-auth?scopes=https%3A//www.googleapis.com/auth/earthengine%20https%3A//www.googleapis.com/auth/cloud-platform%20https%3A//www.googleapis.com/auth/devstorage.full_control&request_id=RzJxIcHGa_PG_6qH5JsbdOORUKfqPwYyVj0YHiuzfmA&tc=gF3Fk8qWVrP6Krc2IWhvzGtLaiVREjEqfT-r_sIZ61c&cc=3B-SrqB2WPfBU4okdgOWcs5iqv-trEldolZxovL-TO0</a></p>\n",
       "        <p>The authorization workflow will generate a code, which you should paste in the box below.</p>\n",
       "        "
      ],
      "text/plain": [
       "<IPython.core.display.HTML object>"
      ]
     },
     "metadata": {},
     "output_type": "display_data"
    },
    {
     "name": "stdin",
     "output_type": "stream",
     "text": [
      "Enter verification code:  4/1ATx3LY6qA7wRCh4QxrC1cf3lJsmHlL6vnSQzE3Rf8i4YOoMAEloMOrce5Xg\n"
     ]
    },
    {
     "name": "stdout",
     "output_type": "stream",
     "text": [
      "\n",
      "Successfully saved authorization token.\n"
     ]
    }
   ],
   "source": [
    "ee.Authenticate()"
   ]
  },
  {
   "cell_type": "code",
   "execution_count": 2,
   "id": "fd5f1dd8-c840-4582-b123-8be4125849ea",
   "metadata": {},
   "outputs": [
    {
     "data": {
      "text/html": [
       "\n",
       "            <style>\n",
       "                .geemap-dark {\n",
       "                    --jp-widgets-color: white;\n",
       "                    --jp-widgets-label-color: white;\n",
       "                    --jp-ui-font-color1: white;\n",
       "                    --jp-layout-color2: #454545;\n",
       "                    background-color: #383838;\n",
       "                }\n",
       "\n",
       "                .geemap-dark .jupyter-button {\n",
       "                    --jp-layout-color3: #383838;\n",
       "                }\n",
       "\n",
       "                .geemap-colab {\n",
       "                    background-color: var(--colab-primary-surface-color, white);\n",
       "                }\n",
       "\n",
       "                .geemap-colab .jupyter-button {\n",
       "                    --jp-layout-color3: var(--colab-primary-surface-color, white);\n",
       "                }\n",
       "            </style>\n",
       "            "
      ],
      "text/plain": [
       "<IPython.core.display.HTML object>"
      ]
     },
     "metadata": {},
     "output_type": "display_data"
    }
   ],
   "source": [
    "ee.Initialize()"
   ]
  },
  {
   "cell_type": "markdown",
   "id": "0f5441e3-f131-46f2-ad5b-14eb699c2808",
   "metadata": {},
   "source": [
    "## Enter region of interest and date"
   ]
  },
  {
   "cell_type": "code",
   "execution_count": 61,
   "id": "2a49bfd2-cc96-449c-bfd7-9557ba0e240f",
   "metadata": {},
   "outputs": [
    {
     "data": {
      "text/html": [
       "\n",
       "            <style>\n",
       "                .geemap-dark {\n",
       "                    --jp-widgets-color: white;\n",
       "                    --jp-widgets-label-color: white;\n",
       "                    --jp-ui-font-color1: white;\n",
       "                    --jp-layout-color2: #454545;\n",
       "                    background-color: #383838;\n",
       "                }\n",
       "\n",
       "                .geemap-dark .jupyter-button {\n",
       "                    --jp-layout-color3: #383838;\n",
       "                }\n",
       "\n",
       "                .geemap-colab {\n",
       "                    background-color: var(--colab-primary-surface-color, white);\n",
       "                }\n",
       "\n",
       "                .geemap-colab .jupyter-button {\n",
       "                    --jp-layout-color3: var(--colab-primary-surface-color, white);\n",
       "                }\n",
       "            </style>\n",
       "            "
      ],
      "text/plain": [
       "<IPython.core.display.HTML object>"
      ]
     },
     "metadata": {},
     "output_type": "display_data"
    }
   ],
   "source": [
    "# Mukund's ROI\n",
    "hs = \"Arctic\"\n",
    "\n",
    "if hs == \"Arctic\":\n",
    "    bbox = [-10, 72.6, 12, 79.2]\n",
    "    start_date = \"2023-04-01\"\n",
    "    end_date = \"2023-05-31\"\n",
    "    orbits = []\n",
    "    # Approximately (72.6 to 79.2 N) and (-10 to 12 E) April to May 2023\n",
    "elif hs == \"Antarctic\":\n",
    "    bbox = [-176.3, -76.3, -153.9, -74.4]\n",
    "    start_date = \"2023-11-01\"\n",
    "    end_date = \"2023-12-31\"\n",
    "    orbits = [111, 97, 112, 140, 141, 9, 38, 39, 67] #170, 120, 171, 24\n",
    "    # Approximately (-76.3 to -74.4 S) and (-176.3 to -153.9 W) November - December 2023\n",
    "\n",
    "region = ee.Geometry.BBox(bbox[0], bbox[1], bbox[2], bbox[3]) #ee.Geometry.Rectangle(bbox)\n",
    "point = ee.Geometry.Point([np.mean([bbox[0], bbox[2]]), np.mean([bbox[1], bbox[3]])]).buffer(20000)"
   ]
  },
  {
   "cell_type": "markdown",
   "id": "555a71a8-7c13-46ee-b817-83e29af7be6c",
   "metadata": {},
   "source": [
    "## Generate GIF time series"
   ]
  },
  {
   "cell_type": "code",
   "execution_count": 62,
   "id": "b15944c5-1d31-4ea8-a53e-fbc436983687",
   "metadata": {},
   "outputs": [
    {
     "data": {
      "text/html": [
       "\n",
       "            <style>\n",
       "                .geemap-dark {\n",
       "                    --jp-widgets-color: white;\n",
       "                    --jp-widgets-label-color: white;\n",
       "                    --jp-ui-font-color1: white;\n",
       "                    --jp-layout-color2: #454545;\n",
       "                    background-color: #383838;\n",
       "                }\n",
       "\n",
       "                .geemap-dark .jupyter-button {\n",
       "                    --jp-layout-color3: #383838;\n",
       "                }\n",
       "\n",
       "                .geemap-colab {\n",
       "                    background-color: var(--colab-primary-surface-color, white);\n",
       "                }\n",
       "\n",
       "                .geemap-colab .jupyter-button {\n",
       "                    --jp-layout-color3: var(--colab-primary-surface-color, white);\n",
       "                }\n",
       "            </style>\n",
       "            "
      ],
      "text/plain": [
       "<IPython.core.display.HTML object>"
      ]
     },
     "metadata": {},
     "output_type": "display_data"
    },
    {
     "name": "stdout",
     "output_type": "stream",
     "text": [
      "2023-04-01 2023-05-31 60\n",
      "Generating URL...\n",
      "Downloading GIF image from https://earthengine.googleapis.com/v1/projects/earthengine-legacy/videoThumbnails/ae84f673764ee4b4663526fba1ef77d6-63aa8733402053c1cd28b3f9dc0d6b2c:getPixels\n",
      "Please wait ...\n",
      "The GIF image has been saved to: D:\\Floes\\S1\\S1_Arctic_2023-04-01_2023-05-31.gif\n",
      "====================================================\n"
     ]
    }
   ],
   "source": [
    "# Define arguments for animation function parameters.\n",
    "video_args = {\n",
    "    \"dimensions\": 700,\n",
    "    \"region\": region,\n",
    "    \"framesPerSecond\": 1,\n",
    "    \"bands\": [\"HH\"],\n",
    "    \"crs\":'EPSG:3857',\n",
    "    \"min\": -25,\n",
    "    \"max\": -5,\n",
    "    \"gamma\": 1    \n",
    "}\n",
    "\n",
    "collection = ee.ImageCollection(\"COPERNICUS/S1_GRD\").filterBounds(region).filterDate(start_date, end_date)\\\n",
    ".filter(ee.Filter.listContains('transmitterReceiverPolarisation', 'HH')).select('HH')\n",
    "\n",
    "if len(orbits) > 0:\n",
    "    collection = collection.filter(ee.Filter.inList('relativeOrbitNumber_start', orbits))\n",
    "# .filter(ee.Filter.Or(ee.Filter.eq('relativeOrbitNumber_start', 5), ee.Filter.eq('relativeOrbitNumber_start', 34),\n",
    "#         ee.Filter.eq('relativeOrbitNumber_start', 136)))\n",
    "\n",
    "images = geemap.create_timeseries(\n",
    "    collection, start_date, end_date, region, frequency=\"day\", reducer=\"median\"\n",
    ")\n",
    "\n",
    "s = images.aggregate_array('system:time_start').getInfo()\n",
    "days = []\n",
    "for sec in s:\n",
    "    d = dt.datetime(1970, 1, 1) + dt.timedelta(seconds = sec / 1000)\n",
    "    days.append(d.strftime(\"%Y-%m-%d\"))\n",
    "\n",
    "print(start_date, end_date, images.size().getInfo())\n",
    "\n",
    "work_dir = \"D:\\\\Floes\\\\S1\"\n",
    "out_gif = os.path.join(work_dir, f\"S1_{hs}_{start_date}_{end_date}.gif\")\n",
    "geemap.download_ee_video(images, video_args, out_gif)\n",
    "\n",
    "texted_gif = os.path.join(work_dir, f\"S1_{hs}_{start_date}_{end_date}_text.gif\")\n",
    "geemap.add_text_to_gif(\n",
    "    out_gif,\n",
    "    texted_gif,\n",
    "    xy=(\"3%\", \"3%\"),\n",
    "    text_sequence=days,\n",
    "    font_size=20,\n",
    "    duration=800,\n",
    "    font_color=\"#ffffff\",\n",
    "    add_progress_bar=False,\n",
    ")\n",
    "\n",
    "print(\"====================================================\")"
   ]
  }
 ],
 "metadata": {
  "kernelspec": {
   "display_name": "Python 3 (ipykernel)",
   "language": "python",
   "name": "python3"
  },
  "language_info": {
   "codemirror_mode": {
    "name": "ipython",
    "version": 3
   },
   "file_extension": ".py",
   "mimetype": "text/x-python",
   "name": "python",
   "nbconvert_exporter": "python",
   "pygments_lexer": "ipython3",
   "version": "3.10.14"
  }
 },
 "nbformat": 4,
 "nbformat_minor": 5
}
