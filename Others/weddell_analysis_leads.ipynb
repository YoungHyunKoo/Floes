{
 "cells": [
  {
   "cell_type": "code",
   "execution_count": 1,
   "metadata": {},
   "outputs": [],
   "source": [
    "import os\n",
    "import csv\n",
    "import numpy as np\n",
    "# import icepyx as ipx\n",
    "from os import listdir\n",
    "from os.path import isfile, join\n",
    "import h5py\n",
    "import matplotlib.pylab as plt\n",
    "from math import *\n",
    "import random\n",
    "import time\n",
    "\n",
    "import matplotlib.colors as colors\n",
    "import matplotlib.cbook as cbook\n",
    "from matplotlib import cm\n"
   ]
  },
  {
   "cell_type": "code",
   "execution_count": 2,
   "metadata": {},
   "outputs": [],
   "source": [
    "# Functions \n",
    "\n",
    "def dist(lon1,lat1,lon2,lat2):\n",
    "\n",
    "  lon1_rad = np.radians(lon1)\n",
    "  lon2_rad = np.radians(lon2)\n",
    "  lat1_rad = np.radians(lat1)\n",
    "  lat2_rad = np.radians(lat2)\n",
    "  #Assumes degrees input\n",
    "  #Calculates in metres\n",
    "  R = 6371000 #Radius of earth in metres (roughly)\n",
    "  ## Uses Haversine formula\n",
    "  a1 = (sin((lat2_rad-lat1_rad)/2))**2\n",
    "  a2 = (cos(lat1_rad))*(cos(lat2_rad))*((sin((lon2_rad-lon1_rad)/2))**2)\n",
    "  a = a1 + a2\n",
    "  c = 2*atan2(sqrt(a),sqrt(1-a))\n",
    "  d = R*c\n",
    "\n",
    "  return d\n",
    "\n",
    "def get_chord_lengths(ice_leads_msk,fb_height,seg_dist_x):\n",
    "    floe_chord_lengths = np.zeros(len(ice_leads_msk)) # Making big enough array\n",
    "    floe_fb = np.zeros(len(ice_leads_msk)) # Making big enough array\n",
    "    ice_cnt_st = 0\n",
    "    ice_cnt_en = 0\n",
    "    floe_idx = 1\n",
    "    for i in range(1,len(ice_leads_msk)):\n",
    "        if (ice_leads_msk[i] == 1) and (ice_leads_msk[i-1] == 0): # start floe\n",
    "            ice_cnt_st = i\n",
    "            ice_cnt_en = i\n",
    "        elif (ice_leads_msk[i] == 1) and (ice_leads_msk[i-1] == 1): # grow floe\n",
    "            ice_cnt_en += 1\n",
    "        elif (ice_leads_msk[i-1] == 1) and (ice_leads_msk[i] == 0): # stop floe\n",
    "            floe_chord_lengths[floe_idx] = seg_dist_x[ice_cnt_en] - seg_dist_x[ice_cnt_st]\n",
    "            floe_fb[floe_idx] = np.mean(fb_height[ice_cnt_st:ice_cnt_en+1]) \n",
    "            floe_idx += 1\n",
    "            \n",
    "    # Removing spurious floes (< 10m, > 10 km, fb<0.1)\n",
    "    remove_idx = np.where(floe_chord_lengths < 10)[0]  \n",
    "    remove_idx = np.append(remove_idx,np.where(floe_chord_lengths > 10e3)[0])\n",
    "    remove_idx = np.append(remove_idx,np.where(floe_fb < 0.1)[0])\n",
    "    floe_fb = np.delete(floe_fb,remove_idx)\n",
    "    floe_chord_lengths = np.delete(floe_chord_lengths,remove_idx)\n",
    "    #\n",
    "    return floe_chord_lengths, floe_fb\n",
    "\n",
    "def get_lead_width_position(leads_msk,seg_dist_x):\n",
    "    lead_width = np.zeros(len(leads_msk)) # Making big enough array\n",
    "    lead_position = np.zeros(len(leads_msk)) # Making big enough array\n",
    "    ice_cnt_st = 0\n",
    "    ice_cnt_en = 0\n",
    "    lead_idx = 1\n",
    "    for i in range(1,len(leads_msk)):\n",
    "        if (leads_msk[i] == 1) and (leads_msk[i-1] == 0): # start lead\n",
    "            ice_cnt_st = i\n",
    "            ice_cnt_en = i\n",
    "        elif (leads_msk[i] == 1) and (leads_msk[i-1] == 1): # grow lead\n",
    "            ice_cnt_en += 1\n",
    "        elif (leads_msk[i-1] == 1) and (leads_msk[i] == 0): # stop lead\n",
    "            lead_width[lead_idx] = seg_dist_x[ice_cnt_en] - seg_dist_x[ice_cnt_st]\n",
    "            lead_position[lead_idx] = (seg_dist_x[ice_cnt_en] + seg_dist_x[ice_cnt_st])/2\n",
    "            lead_idx += 1\n",
    "    #\n",
    "    # Removing extra entries\n",
    "    remove_idx = np.where(lead_width < 10)[0]  \n",
    "    lead_position = np.delete(lead_position,remove_idx)\n",
    "    lead_width = np.delete(lead_width,remove_idx)\n",
    "    #\n",
    "    return lead_width, lead_position\n",
    "\n",
    "def get_lead_width_spacing_correlation(lead_widths,lead_positions,lead_width_bin_ranges):\n",
    "    binned_lead_spacings = np.zeros(len(lead_width_bin_ranges)-1)\n",
    "    binned_lead_count = np.zeros(len(lead_width_bin_ranges)-1)\n",
    "    for i in range(len(lead_width_bin_ranges)-1):\n",
    "        idx = np.where( (lead_widths >= lead_width_bin_ranges[i]) * (lead_widths < lead_width_bin_ranges[i+1]) )[0]\n",
    "        spacings = np.abs(np.diff(lead_positions[idx]))\n",
    "        if np.any(spacings):\n",
    "            binned_lead_spacings[i] = np.mean(spacings)\n",
    "            binned_lead_count[i] = len(idx) - 1 \n",
    "    return binned_lead_count, binned_lead_spacings\n"
   ]
  },
  {
   "cell_type": "code",
   "execution_count": null,
   "metadata": {},
   "outputs": [],
   "source": []
  },
  {
   "cell_type": "code",
   "execution_count": null,
   "metadata": {},
   "outputs": [],
   "source": []
  },
  {
   "cell_type": "code",
   "execution_count": 3,
   "metadata": {},
   "outputs": [
    {
     "name": "stdout",
     "output_type": "stream",
     "text": [
      "ATL10-02_20210203133757_06351001_005_01.h5\n",
      "ATL10-02_20191208090337_11070501_005_02.h5\n",
      "ATL10-02_20191025090101_04350501_005_02.h5\n",
      "ATL10-02_20190301114641_09630201_005_02.h5\n",
      "ATL10-02_20211030132017_05821301_005_01.h5\n",
      "ATL10-02_20190317111321_12070201_005_02.h5\n",
      "ATL10-02_20211014135334_03381301_005_01.h5\n",
      "ATL10-02_20210303110522_10611001_005_01.h5\n",
      "ATL10-02_20191031093538_05270501_005_02.h5\n",
      "ATL10-02_20191005125113_01320501_005_02.h5\n",
      "ATL10-02_20190905113210_10600401_005_02.h5\n",
      "ATL10-02_20211103100324_06411301_005_01.h5\n",
      "ATL10-02_20191002105936_00850501_005_02.h5\n",
      "ATL10-02_20191104092718_05880501_005_02.h5\n",
      "ATL10-02_20191013123433_02540501_005_02.h5\n",
      "ATL10-02_20211203112222_11001301_005_01.h5\n",
      "ATL10-02_20211021105400_04431301_005_01.h5\n",
      "ATL10-02_20191030100118_05120501_005_02.h5\n",
      "ATL10-02_20211119110427_08861301_005_01.h5\n",
      "ATL10-02_20210208130358_07111001_005_01.h5\n",
      "ATL10-02_20211020111939_04281301_005_01.h5\n",
      "ATL10-02_20211108110341_07181301_005_01.h5\n",
      "ATL10-02_20191010104255_02070501_005_02.h5\n",
      "ATL10-02_20210204131218_06501001_005_01.h5\n",
      "ATL10-02_20191001112514_00700501_005_02.h5\n",
      "ATL10-02_20211206113943_11461301_005_01.h5\n",
      "ATL10-02_20191022115216_03910501_005_02.h5\n",
      "ATL10-02_20211117115544_08561301_005_01.h5\n",
      "ATL10-02_20211207111404_11611301_005_01.h5\n",
      "ATL10-02_20190309113001_10850201_005_02.h5\n",
      "ATL10-02_20191111111035_06960501_005_02.h5\n",
      "ATL10-02_20210209123819_07261001_005_01.h5\n",
      "ATL10-02_20191115110217_07570501_005_02.h5\n",
      "ATL10-02_20211118113005_08711301_005_01.h5\n",
      "ATL10-02_20191005111655_01310501_005_02.h5\n",
      "ATL10-02_20191012095138_02370501_005_02.h5\n",
      "ATL10-02_20191029102657_04970501_005_02.h5\n",
      "ATL10-02_20210117143650_03761001_005_02.h5\n",
      "ATL10-02_20190902111451_10140401_005_02.h5\n"
     ]
    }
   ],
   "source": [
    "# Testing out lead statistics\n",
    "path = 'data/ATL10/Weddell/'\n",
    "filelist = [file for file in os.listdir(path) if file.endswith('.h5')]\n",
    "\n",
    "# Looping through h5 files in directory\n",
    "cnt_file = 0\n",
    "lead_month = []\n",
    "lead_positions = []\n",
    "lead_widths = []\n",
    "subtrack_lengths = []\n",
    "\n",
    "# Lead width bins\n",
    "lead_width_bin_ranges = np.arange(10, 3000, 10)\n",
    "lead_width_bin_means = 0.5*(lead_width_bin_ranges[0:-1] + lead_width_bin_ranges[1:])\n",
    "nbins = len(lead_width_bin_means)\n",
    "binned_lead_count = np.zeros(nbins)\n",
    "binned_lead_spacings = np.zeros(nbins)\n",
    "\n",
    "filelist = filelist\n",
    "for fname in filelist:\n",
    "# fname = filelist[15]\n",
    "    this_ATL10=h5py.File(path+fname, 'r')\n",
    "    print(fname)\n",
    "    mth =  int(fname.split('_')[1][4:6])\n",
    "\n",
    "    # Looping over beams. \n",
    "    # MG: CHANGE THIS TO ONLY INCLUDE STRONG BEAMS.\n",
    "    for beam in ['gt1l','gt2l','gt3l','gt1r','gt2r','gt3r']:    # \n",
    "        # Getting data\n",
    "        fb_height = np.array(np.squeeze(this_ATL10[beam+'/freeboard_beam_segment/beam_freeboard/beam_fb_height'])) \n",
    "        fb_lat = np.array(this_ATL10[beam+'/freeboard_beam_segment/beam_freeboard/latitude'])\n",
    "        fb_lon = np.array(this_ATL10[beam+'/freeboard_beam_segment/beam_freeboard/longitude'])\n",
    "        height_segment_ssh_flag = np.array(this_ATL10[beam+'/freeboard_beam_segment/height_segments/height_segment_ssh_flag'])\n",
    "        seg_dist_x = np.array(this_ATL10[beam+'/freeboard_beam_segment/beam_freeboard/seg_dist_x'])\n",
    "        height_segment_type = np.array(this_ATL10[beam+'/freeboard_beam_segment/height_segments/height_segment_type'])\n",
    "        fb_height[fb_height > 30] = 0\n",
    "        #\n",
    "        beam_lead_n = this_ATL10[beam+'/freeboard_beam_segment/beam_lead_n']\n",
    "        ref_height = this_ATL10[beam+'/freeboard_beam_segment/beam_refsurf_alongtrack_slope']\n",
    "        ice_conc = this_ATL10[beam+'/freeboard_beam_segment/height_segments/ice_conc']\n",
    "        lead_height = this_ATL10[beam+'/leads/lead_height']\n",
    "        lead_length = this_ATL10[beam+'/leads/lead_length']\n",
    "        lead_lat = this_ATL10[beam+'/leads/latitude']\n",
    "        lead_lon = this_ATL10[beam+'/leads/longitude']\n",
    "            \n",
    "        # Creating binary array for: leads or spurious (0) / ice (1)\n",
    "        height_segment_type = np.array(height_segment_type)\n",
    "        leads_msk = 0*height_segment_type\n",
    "        leads_msk[(height_segment_type <= 5)*(height_segment_type >= 2)] = 1\n",
    "\n",
    "        # Splitting into sub-tracks\n",
    "        subtrack_st_idx = np.array([], dtype='>i4')\n",
    "        subtrack_en_idx = np.array([], dtype='>i4')\n",
    "        seg_dx = np.abs(np.diff(seg_dist_x))\n",
    "        seg_dx_thresh = 300\n",
    "        seg_dx = np.insert(seg_dx,0,seg_dx_thresh+1)\n",
    "        seg_dx = np.insert(seg_dx,len(seg_dx),seg_dx_thresh+1)\n",
    "        for i in range(1,len(seg_dist_x)):\n",
    "            if (seg_dx[i] < seg_dx_thresh) and (seg_dx[i-1] > seg_dx_thresh): # start subtrack\n",
    "                subtrack_st_idx = np.append(subtrack_st_idx,i)\n",
    "            # elif (seg_dx[i] < seg_dx_thresh) and (seg_dx[i-1] < seg_dx_thresh): # grow subtrack\n",
    "            #     ice_cnt_en += 1\n",
    "            elif (seg_dx[i-1] < seg_dx_thresh) and (seg_dx[i] > seg_dx_thresh): # stop subtrack\n",
    "                subtrack_en_idx = np.append(subtrack_en_idx,i)\n",
    "\n",
    "        if len(subtrack_st_idx) - len(subtrack_en_idx) == 1:\n",
    "            subtrack_en_idx = np.append(subtrack_en_idx,len(seg_dist_x))\n",
    "        \n",
    "        # Removing subtracks that are too small\n",
    "        subtrack_pts_min = len(seg_dist_x) / 15\n",
    "        subtrack_pts  = subtrack_en_idx - subtrack_st_idx\n",
    "        subtrack_validated_idx = [i for i in range(len(subtrack_pts)) if subtrack_pts[i] > subtrack_pts_min]\n",
    "        subtrack_st_idx = subtrack_st_idx[subtrack_validated_idx].astype(int)\n",
    "        subtrack_en_idx = subtrack_en_idx[subtrack_validated_idx].astype(int)\n",
    "\n",
    "        for isub in range(len(subtrack_st_idx)):\n",
    "            st = subtrack_st_idx[isub]\n",
    "            en = subtrack_en_idx[isub]\n",
    "            leads_msk_sub = leads_msk[st:en]\n",
    "            seg_dist_x_sub = seg_dist_x[st:en]\n",
    "            subtrack_lengths = np.append(subtrack_lengths,seg_dist_x_sub[-1]-seg_dist_x_sub[0])\n",
    "\n",
    "            # Getting lead widths and positions\n",
    "            lead_widths_sub, lead_positions_sub = get_lead_width_position(leads_msk_sub,seg_dist_x_sub)\n",
    "\n",
    "            # Getting binned lead count and spacing \n",
    "            binned_lead_count_sub, binned_lead_spacings_sub = get_lead_width_spacing_correlation(lead_widths_sub,lead_positions_sub,lead_width_bin_ranges)\n",
    "\n",
    "            # Adding to all subtracks\n",
    "            binned_lead_count += binned_lead_count_sub\n",
    "            binned_lead_spacings += binned_lead_count_sub*binned_lead_spacings_sub\n",
    "            \n",
    "with np.errstate(divide='ignore', invalid='ignore'):\n",
    "    binned_lead_spacings = binned_lead_spacings / binned_lead_count\n",
    "\n",
    "    # lead_month = np.append(lead_month,mth)\n"
   ]
  },
  {
   "cell_type": "code",
   "execution_count": 4,
   "metadata": {},
   "outputs": [
    {
     "name": "stdout",
     "output_type": "stream",
     "text": [
      "[11661 39057 72127]\n",
      "[37047 45734 92455]\n"
     ]
    }
   ],
   "source": [
    "print(subtrack_st_idx)\n",
    "print(subtrack_en_idx)"
   ]
  },
  {
   "cell_type": "code",
   "execution_count": null,
   "metadata": {},
   "outputs": [],
   "source": []
  },
  {
   "cell_type": "code",
   "execution_count": null,
   "metadata": {},
   "outputs": [],
   "source": [
    "\n"
   ]
  },
  {
   "cell_type": "code",
   "execution_count": 5,
   "metadata": {},
   "outputs": [
    {
     "name": "stderr",
     "output_type": "stream",
     "text": [
      "No artists with labels found to put in legend.  Note that artists whose label start with an underscore are ignored when legend() is called with no argument.\n"
     ]
    },
    {
     "data": {
      "image/png": "[encoded data removed]",
      "text/plain": [
       "<Figure size 432x432 with 1 Axes>"
      ]
     },
     "metadata": {
      "needs_background": "light"
     },
     "output_type": "display_data"
    }
   ],
   "source": [
    "fig = plt.figure(figsize=(6, 6))\n",
    "ax = fig.add_subplot(1,1,1)\n",
    "plt.plot(lead_width_bin_means,binned_lead_count)\n",
    "plt.xlabel('Lead width [m]')\n",
    "plt.ylabel('Count')\n",
    "plt.legend()\n",
    "ax.set_xscale(\"log\")\n",
    "ax.set_yscale(\"log\")"
   ]
  },
  {
   "cell_type": "code",
   "execution_count": 6,
   "metadata": {},
   "outputs": [
    {
     "data": {
      "text/plain": [
       "<matplotlib.colorbar.Colorbar at 0x7fa570ae43d0>"
      ]
     },
     "execution_count": 6,
     "metadata": {},
     "output_type": "execute_result"
    },
    {
     "data": {
      "image/png": "[encoded data removed]",
      "text/plain": [
       "<Figure size 432x288 with 2 Axes>"
      ]
     },
     "metadata": {
      "needs_background": "light"
     },
     "output_type": "display_data"
    }
   ],
   "source": [
    "# Plotting lead statistics \n",
    "plt.scatter(lead_width_bin_means,binned_lead_spacings/1000, c = binned_lead_count, norm=colors.LogNorm(vmin=300, vmax=16000), cmap = 'viridis')\n",
    "plt.xlabel('Lead width [m]')\n",
    "plt.ylabel('Lead spacing [km]')\n",
    "plt.xlim(0,300)\n",
    "plt.ylim(0,100)\n",
    "plt.colorbar(label='Count')\n",
    "# plt.savefig('plots/lead_width_spacing_correlation.pdf')  "
   ]
  },
  {
   "cell_type": "code",
   "execution_count": null,
   "metadata": {},
   "outputs": [],
   "source": []
  },
  {
   "cell_type": "code",
   "execution_count": 7,
   "metadata": {},
   "outputs": [
    {
     "name": "stderr",
     "output_type": "stream",
     "text": [
      "/var/folders/jv/28p3mxrj1w5f65d4m0dx67r40000gn/T/ipykernel_66699/296372086.py:4: RuntimeWarning: divide by zero encountered in true_divide\n",
      "  s = 1 / c\n"
     ]
    },
    {
     "data": {
      "text/plain": [
       "(0.0, 300.0)"
      ]
     },
     "execution_count": 7,
     "metadata": {},
     "output_type": "execute_result"
    },
    {
     "data": {
      "image/png": "[encoded data removed]",
      "text/plain": [
       "<Figure size 432x288 with 1 Axes>"
      ]
     },
     "metadata": {
      "needs_background": "light"
     },
     "output_type": "display_data"
    }
   ],
   "source": [
    "# plt.plot(lead_width_bin_means,binned_lead_count_agg[:,0],label='MJJA')\n",
    "w = lead_width_bin_means\n",
    "c = binned_lead_count\n",
    "s = 1 / c\n",
    "\n",
    "plt.plot(w,s)\n",
    "plt.xlim(0,300)\n",
    "# plt.ylim(0,0.01)"
   ]
  },
  {
   "cell_type": "code",
   "execution_count": null,
   "metadata": {},
   "outputs": [],
   "source": []
  },
  {
   "cell_type": "code",
   "execution_count": 8,
   "metadata": {},
   "outputs": [
    {
     "data": {
      "text/plain": [
       "[<matplotlib.lines.Line2D at 0x7fa5887ff970>]"
      ]
     },
     "execution_count": 8,
     "metadata": {},
     "output_type": "execute_result"
    },
    {
     "data": {
      "image/png": "[encoded data removed]",
      "text/plain": [
       "<Figure size 432x288 with 1 Axes>"
      ]
     },
     "metadata": {
      "needs_background": "light"
     },
     "output_type": "display_data"
    }
   ],
   "source": [
    "xx = (seg_dist_x_sub-seg_dist_x_sub[0])/1000\n",
    "\n",
    "plt.plot(xx,leads_msk_sub)"
   ]
  },
  {
   "cell_type": "code",
   "execution_count": 9,
   "metadata": {},
   "outputs": [
    {
     "data": {
      "text/plain": [
       "1437.6021772460342"
      ]
     },
     "execution_count": 9,
     "metadata": {},
     "output_type": "execute_result"
    }
   ],
   "source": [
    "np.max(subtrack_lengths/1000)"
   ]
  },
  {
   "cell_type": "code",
   "execution_count": null,
   "metadata": {},
   "outputs": [],
   "source": []
  },
  {
   "cell_type": "code",
   "execution_count": 10,
   "metadata": {},
   "outputs": [],
   "source": [
    "seg_dist_x = np.array(this_ATL10[beam+'/freeboard_beam_segment/beam_freeboard/seg_dist_x'])"
   ]
  },
  {
   "cell_type": "code",
   "execution_count": 13,
   "metadata": {},
   "outputs": [
    {
     "data": {
      "text/plain": [
       "[<matplotlib.lines.Line2D at 0x7fa5d0a90ac0>]"
      ]
     },
     "execution_count": 13,
     "metadata": {},
     "output_type": "execute_result"
    },
    {
     "data": {
      "image/png": "[encoded data removed]",
      "text/plain": [
       "<Figure size 432x288 with 1 Axes>"
      ]
     },
     "metadata": {
      "needs_background": "light"
     },
     "output_type": "display_data"
    }
   ],
   "source": [
    "plt.plot((seg_dist_x-seg_dist_x[0])/1000)"
   ]
  }
 ],
 "metadata": {
  "kernelspec": {
   "display_name": "Python 3 (ipykernel)",
   "language": "python",
   "name": "python3"
  },
  "language_info": {
   "codemirror_mode": {
    "name": "ipython",
    "version": 3
   },
   "file_extension": ".py",
   "mimetype": "text/x-python",
   "name": "python",
   "nbconvert_exporter": "python",
   "pygments_lexer": "ipython3",
   "version": "3.10.11"
  }
 },
 "nbformat": 4,
 "nbformat_minor": 4
}
