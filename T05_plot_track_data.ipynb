{
 "cells": [
  {
   "cell_type": "markdown",
   "metadata": {},
   "source": [
    "# Imports and functions"
   ]
  },
  {
   "cell_type": "code",
   "execution_count": 90,
   "metadata": {
    "tags": []
   },
   "outputs": [],
   "source": [
    "import h5py\n",
    "import matplotlib.colors as colors\n",
    "import pandas as pd\n",
    "import geopandas as gpd\n",
    "import geopandas\n",
    "import numpy as np\n",
    "import xarray as xr\n",
    "import matplotlib.pyplot as plt\n",
    "from tqdm import tqdm\n",
    "import argparse\n",
    "from pathlib import Path\n",
    "import cartopy.crs as ccrs\n",
    "\n",
    "import matplotlib.cm as cm\n",
    "import sys\n",
    "import glob\n",
    "import netCDF4\n",
    "import os\n",
    "import pyproj\n",
    "import tqdm\n",
    "import geopandas as gpd\n",
    "from PIL import Image\n",
    "import matplotlib.pyplot as plt\n",
    "import odc.geo.xr\n",
    "import shapely\n",
    "from shapely.geometry import Point"
   ]
  },
  {
   "cell_type": "code",
   "execution_count": 3,
   "metadata": {
    "tags": []
   },
   "outputs": [],
   "source": [
    "def paths_to_datetimeindex(paths, string_slice=(0, 10), form='%Y%m'):\n",
    "    \"\"\"\n",
    "    Helper function to generate a Pandas datetimeindex object\n",
    "    from dates contained in a file path string.\n",
    "    Parameters\n",
    "    ----------\n",
    "    paths : list of strings\n",
    "        A list of file path strings that will be used to extract times\n",
    "    string_slice : tuple\n",
    "        An optional tuple giving the start and stop position that\n",
    "        contains the time information in the provided paths. These are\n",
    "        applied to the basename (i.e. file name) in each path, not the\n",
    "        path itself. Defaults to (0, 10).\n",
    "    Returns\n",
    "    -------\n",
    "    A pandas.DatetimeIndex object containing a 'datetime64[ns]' derived\n",
    "    from the file paths provided by `paths`.\n",
    "    \"\"\"\n",
    "    date_strings = [os.path.basename(i)[slice(*string_slice)]\n",
    "                    for i in paths]\n",
    "    return pd.to_datetime(date_strings, format=form)"
   ]
  },
  {
   "cell_type": "code",
   "execution_count": 64,
   "metadata": {
    "tags": []
   },
   "outputs": [],
   "source": [
    "## Function to read ATL10 data\n",
    "def read_atl10(filename):\n",
    "    # print('processing',filename)\n",
    "    # Create a list for saving ATL10 beam track data\n",
    "    track = []\n",
    "\n",
    "    with h5py.File(filename,'r') as f:\n",
    "\n",
    "        # Check the orbit orientation\n",
    "        orient = f['orbit_info/sc_orient'][0]\n",
    "\n",
    "        if orient == 0:\n",
    "            strong_beams = [f\"gt{i}l\" for i in [1, 2, 3]]\n",
    "        elif orient == 1:\n",
    "            strong_beams = [f\"gt{i}r\" for i in [1, 2, 3]]\n",
    "        else:\n",
    "            strong_beams = []\n",
    "\n",
    "        for beam in strong_beams[1:2]:\n",
    "            if beam in f.keys():\n",
    "                lat = f[beam]['freeboard_segment/latitude'][:]\n",
    "                lon = f[beam]['freeboard_segment/longitude'][:]\n",
    "                # Funky way to create a timestamp from the bytes\n",
    "                time = pd.to_datetime(f['ancillary_data']['data_end_utc'][0][0:10].decode(\"utf-8\"))\n",
    "                seg_x = f[beam]['freeboard_segment/seg_dist_x'][:] / 1000 # (m to km)\n",
    "                seg_len = f[beam]['freeboard_segment/heights/height_segment_length_seg'][:]\n",
    "                fb = f[beam]['freeboard_segment/beam_fb_height'][:]\n",
    "                surface_type = f[beam]['freeboard_segment/heights/height_segment_type'][:]\n",
    "                fb[fb>100] = np.nan\n",
    "\n",
    "                df = pd.DataFrame({'lat': lat, 'lon': lon, 'time':time, 'seg_x': seg_x, 'seg_len': seg_len,\n",
    "                                  'freeboard': fb, 'stype': surface_type})\n",
    "\n",
    "                df['beam'] = beam\n",
    "                df = df.dropna().reset_index(drop = True)\n",
    "\n",
    "                gdf = geopandas.GeoDataFrame(df, geometry=geopandas.points_from_xy(df.lon, df.lat))\n",
    "\n",
    "                # Assign crs information into geodatafraem\n",
    "                gdf.crs = \"+proj=longlat +ellps=WGS84 +datum=WGS84 +no_defs\"\n",
    "                \n",
    "                if len(gdf) > 0:\n",
    "                    track.append(gdf)\n",
    "                    \n",
    "    if len(track) > 0:\n",
    "        track = pd.concat(track)\n",
    "    else:\n",
    "        track = pd.DataFrame()\n",
    "            \n",
    "    return track"
   ]
  },
  {
   "cell_type": "markdown",
   "metadata": {
    "tags": []
   },
   "source": [
    "# Create xarray / netcdf from h5 files"
   ]
  },
  {
   "cell_type": "code",
   "execution_count": 5,
   "metadata": {
    "tags": []
   },
   "outputs": [
    {
     "name": "stdout",
     "output_type": "stream",
     "text": [
      "Finding files\n"
     ]
    }
   ],
   "source": [
    "# Load and sort filelist by time\n",
    "\n",
    "filedict = {}\n",
    "# Path to IS2 H5 files\n",
    "path = 'D:\\\\Floes\\\\ATL10'\n",
    "print(\"Finding files\")\n",
    "# The \"02\" just matches the sea ice product\n",
    "for file in Path(path).rglob('*ATL10-02*.h5'):\n",
    "    time = pd.to_datetime(os.path.splitext(os.path.basename(file)[9:17])[0])\n",
    "    filedict[time] = file\n",
    "    \n",
    "# The index numbers in the following line are used to sort the file list by date, they made need adjusting depending on which product you use.\n",
    "# filelist = sorted(filelist, key=lambda i: int(os.path.splitext(os.path.basename(i)[9:17])[0]))\n",
    "# print(f\"Processing {len(filelist)} files\")\n",
    "\n",
    "# extract dimensions from top layer of h5 file\n",
    "# dims = xr.open_dataset(filelist[0])"
   ]
  },
  {
   "cell_type": "code",
   "execution_count": 21,
   "metadata": {
    "tags": []
   },
   "outputs": [],
   "source": [
    "months = {}\n",
    "\n",
    "for date, data in filedict.items():\n",
    "    yearmonth = date.strftime('%Y-%m')\n",
    "    # print(yearmonth, data)\n",
    "    # Update sum if already tracking, otherwise create new entry in dictionary\n",
    "    # months[yearmonth] = data if yearmonth in months else total\n",
    "    if yearmonth in months.keys():\n",
    "        months[yearmonth].append(data)\n",
    "    else:\n",
    "        months[yearmonth] = [data]\n",
    "\n",
    "# print(months)"
   ]
  },
  {
   "cell_type": "markdown",
   "metadata": {
    "tags": []
   },
   "source": [
    "## Every month"
   ]
  },
  {
   "cell_type": "code",
   "execution_count": null,
   "metadata": {
    "tags": []
   },
   "outputs": [],
   "source": [
    "for key, value in months.items():\n",
    "    fb = []\n",
    "    \n",
    "    print(\"processing\", key)\n",
    "    # first = True\n",
    "    # for file in value:\n",
    "    #     df = read_atl10(file)\n",
    "    #     if len(df) > 0:\n",
    "    #         if first:\n",
    "    #             one_month = df\n",
    "    #             first = False\n",
    "    #         else:\n",
    "    #             one_month = pd.concat([one_month, df])\n",
    "    one_month = pd.concat([read_atl10(file) for file in value])\n",
    "    fb.append(one_month)\n",
    "    \n",
    "    # Define the figure and each axis\n",
    "    fig, ax = plt.subplots(nrows=1,ncols=1,\n",
    "                            subplot_kw={'projection': ccrs.SouthPolarStereo(true_scale_latitude=-70)},\n",
    "                           figsize = (7,7))\n",
    "\n",
    "    # axs is a 2 dimensional array of `GeoAxes`.  We will flatten it into a 1-D array\n",
    "    # axs=axs.flatten()\n",
    "\n",
    "    #Loop over all of the models\n",
    "    for i, month in enumerate(fb):\n",
    "        # ax = axs[i]\n",
    "        ax.set_facecolor('whitesmoke')\n",
    "        ax.set_xlim([-3000000,0])\n",
    "        ax.set_ylim([300000,3250000])\n",
    "        month.to_crs(\"EPSG:3031\").plot(marker='*', color='red', markersize=2, ax=ax)\n",
    "        ax.coastlines()\n",
    "        \n",
    "    ax.annotate(f\"{key}\", xy=(0.03, 0.97), xycoords='axes fraction', fontsize=15, ha='left', va='top', color = \"k\")\n",
    "    plt.savefig(f\"D:\\\\Floes\\\\figures\\\\Tracks_{key}.png\", bbox_inches = \"tight\")\n",
    "    plt.close()"
   ]
  },
  {
   "cell_type": "code",
   "execution_count": 61,
   "metadata": {
    "tags": []
   },
   "outputs": [
    {
     "data": {
      "text/html": [
       "<div>\n",
       "<style scoped>\n",
       "    .dataframe tbody tr th:only-of-type {\n",
       "        vertical-align: middle;\n",
       "    }\n",
       "\n",
       "    .dataframe tbody tr th {\n",
       "        vertical-align: top;\n",
       "    }\n",
       "\n",
       "    .dataframe thead th {\n",
       "        text-align: right;\n",
       "    }\n",
       "</style>\n",
       "<table border=\"1\" class=\"dataframe\">\n",
       "  <thead>\n",
       "    <tr style=\"text-align: right;\">\n",
       "      <th></th>\n",
       "      <th>lat</th>\n",
       "      <th>lon</th>\n",
       "      <th>time</th>\n",
       "      <th>seg_x</th>\n",
       "      <th>seg_len</th>\n",
       "      <th>freeboard</th>\n",
       "      <th>stype</th>\n",
       "      <th>beam</th>\n",
       "      <th>geometry</th>\n",
       "    </tr>\n",
       "  </thead>\n",
       "  <tbody>\n",
       "    <tr>\n",
       "      <th>0</th>\n",
       "      <td>-69.671870</td>\n",
       "      <td>-38.882061</td>\n",
       "      <td>2023-04-02</td>\n",
       "      <td>27842.484311</td>\n",
       "      <td>113.762451</td>\n",
       "      <td>0.080979</td>\n",
       "      <td>7</td>\n",
       "      <td>gt2l</td>\n",
       "      <td>POINT (-38.88206 -69.67187)</td>\n",
       "    </tr>\n",
       "    <tr>\n",
       "      <th>1</th>\n",
       "      <td>-69.672046</td>\n",
       "      <td>-38.882119</td>\n",
       "      <td>2023-04-02</td>\n",
       "      <td>27842.504093</td>\n",
       "      <td>70.563065</td>\n",
       "      <td>0.083086</td>\n",
       "      <td>7</td>\n",
       "      <td>gt2l</td>\n",
       "      <td>POINT (-38.88212 -69.67205)</td>\n",
       "    </tr>\n",
       "    <tr>\n",
       "      <th>2</th>\n",
       "      <td>-69.672163</td>\n",
       "      <td>-38.882158</td>\n",
       "      <td>2023-04-02</td>\n",
       "      <td>27842.517195</td>\n",
       "      <td>48.439163</td>\n",
       "      <td>0.078319</td>\n",
       "      <td>1</td>\n",
       "      <td>gt2l</td>\n",
       "      <td>POINT (-38.88216 -69.67216)</td>\n",
       "    </tr>\n",
       "    <tr>\n",
       "      <th>3</th>\n",
       "      <td>-69.672375</td>\n",
       "      <td>-38.882229</td>\n",
       "      <td>2023-04-02</td>\n",
       "      <td>27842.541006</td>\n",
       "      <td>39.130844</td>\n",
       "      <td>0.072192</td>\n",
       "      <td>1</td>\n",
       "      <td>gt2l</td>\n",
       "      <td>POINT (-38.88223 -69.67238)</td>\n",
       "    </tr>\n",
       "    <tr>\n",
       "      <th>4</th>\n",
       "      <td>-69.672467</td>\n",
       "      <td>-38.882261</td>\n",
       "      <td>2023-04-02</td>\n",
       "      <td>27842.551321</td>\n",
       "      <td>54.581070</td>\n",
       "      <td>0.079438</td>\n",
       "      <td>7</td>\n",
       "      <td>gt2l</td>\n",
       "      <td>POINT (-38.88226 -69.67247)</td>\n",
       "    </tr>\n",
       "    <tr>\n",
       "      <th>...</th>\n",
       "      <td>...</td>\n",
       "      <td>...</td>\n",
       "      <td>...</td>\n",
       "      <td>...</td>\n",
       "      <td>...</td>\n",
       "      <td>...</td>\n",
       "      <td>...</td>\n",
       "      <td>...</td>\n",
       "      <td>...</td>\n",
       "    </tr>\n",
       "    <tr>\n",
       "      <th>44097</th>\n",
       "      <td>-76.931044</td>\n",
       "      <td>-33.512214</td>\n",
       "      <td>2023-04-15</td>\n",
       "      <td>28660.934034</td>\n",
       "      <td>23.907610</td>\n",
       "      <td>0.129440</td>\n",
       "      <td>1</td>\n",
       "      <td>gt2l</td>\n",
       "      <td>POINT (-33.51221 -76.93104)</td>\n",
       "    </tr>\n",
       "    <tr>\n",
       "      <th>44098</th>\n",
       "      <td>-76.931131</td>\n",
       "      <td>-33.512278</td>\n",
       "      <td>2023-04-15</td>\n",
       "      <td>28660.943841</td>\n",
       "      <td>21.109417</td>\n",
       "      <td>0.121935</td>\n",
       "      <td>1</td>\n",
       "      <td>gt2l</td>\n",
       "      <td>POINT (-33.51228 -76.93113)</td>\n",
       "    </tr>\n",
       "    <tr>\n",
       "      <th>44099</th>\n",
       "      <td>-76.931223</td>\n",
       "      <td>-33.512347</td>\n",
       "      <td>2023-04-15</td>\n",
       "      <td>28660.954308</td>\n",
       "      <td>20.412125</td>\n",
       "      <td>0.111120</td>\n",
       "      <td>1</td>\n",
       "      <td>gt2l</td>\n",
       "      <td>POINT (-33.51235 -76.93122)</td>\n",
       "    </tr>\n",
       "    <tr>\n",
       "      <th>44100</th>\n",
       "      <td>-76.931314</td>\n",
       "      <td>-33.512415</td>\n",
       "      <td>2023-04-15</td>\n",
       "      <td>28660.964548</td>\n",
       "      <td>20.427128</td>\n",
       "      <td>0.115933</td>\n",
       "      <td>1</td>\n",
       "      <td>gt2l</td>\n",
       "      <td>POINT (-33.51241 -76.93131)</td>\n",
       "    </tr>\n",
       "    <tr>\n",
       "      <th>44101</th>\n",
       "      <td>-76.931388</td>\n",
       "      <td>-33.512471</td>\n",
       "      <td>2023-04-15</td>\n",
       "      <td>28660.973013</td>\n",
       "      <td>19.029787</td>\n",
       "      <td>0.121202</td>\n",
       "      <td>1</td>\n",
       "      <td>gt2l</td>\n",
       "      <td>POINT (-33.51247 -76.93139)</td>\n",
       "    </tr>\n",
       "  </tbody>\n",
       "</table>\n",
       "<p>758433 rows × 9 columns</p>\n",
       "</div>"
      ],
      "text/plain": [
       "             lat        lon       time         seg_x     seg_len  freeboard  \\\n",
       "0     -69.671870 -38.882061 2023-04-02  27842.484311  113.762451   0.080979   \n",
       "1     -69.672046 -38.882119 2023-04-02  27842.504093   70.563065   0.083086   \n",
       "2     -69.672163 -38.882158 2023-04-02  27842.517195   48.439163   0.078319   \n",
       "3     -69.672375 -38.882229 2023-04-02  27842.541006   39.130844   0.072192   \n",
       "4     -69.672467 -38.882261 2023-04-02  27842.551321   54.581070   0.079438   \n",
       "...          ...        ...        ...           ...         ...        ...   \n",
       "44097 -76.931044 -33.512214 2023-04-15  28660.934034   23.907610   0.129440   \n",
       "44098 -76.931131 -33.512278 2023-04-15  28660.943841   21.109417   0.121935   \n",
       "44099 -76.931223 -33.512347 2023-04-15  28660.954308   20.412125   0.111120   \n",
       "44100 -76.931314 -33.512415 2023-04-15  28660.964548   20.427128   0.115933   \n",
       "44101 -76.931388 -33.512471 2023-04-15  28660.973013   19.029787   0.121202   \n",
       "\n",
       "       stype  beam                     geometry  \n",
       "0          7  gt2l  POINT (-38.88206 -69.67187)  \n",
       "1          7  gt2l  POINT (-38.88212 -69.67205)  \n",
       "2          1  gt2l  POINT (-38.88216 -69.67216)  \n",
       "3          1  gt2l  POINT (-38.88223 -69.67238)  \n",
       "4          7  gt2l  POINT (-38.88226 -69.67247)  \n",
       "...      ...   ...                          ...  \n",
       "44097      1  gt2l  POINT (-33.51221 -76.93104)  \n",
       "44098      1  gt2l  POINT (-33.51228 -76.93113)  \n",
       "44099      1  gt2l  POINT (-33.51235 -76.93122)  \n",
       "44100      1  gt2l  POINT (-33.51241 -76.93131)  \n",
       "44101      1  gt2l  POINT (-33.51247 -76.93139)  \n",
       "\n",
       "[758433 rows x 9 columns]"
      ]
     },
     "execution_count": 61,
     "metadata": {},
     "output_type": "execute_result"
    }
   ],
   "source": [
    "one_month"
   ]
  },
  {
   "cell_type": "markdown",
   "metadata": {},
   "source": [
    "## Every three month"
   ]
  },
  {
   "cell_type": "code",
   "execution_count": 65,
   "metadata": {
    "tags": []
   },
   "outputs": [
    {
     "data": {
      "text/html": [
       "<div>\n",
       "<style scoped>\n",
       "    .dataframe tbody tr th:only-of-type {\n",
       "        vertical-align: middle;\n",
       "    }\n",
       "\n",
       "    .dataframe tbody tr th {\n",
       "        vertical-align: top;\n",
       "    }\n",
       "\n",
       "    .dataframe thead th {\n",
       "        text-align: right;\n",
       "    }\n",
       "</style>\n",
       "<table border=\"1\" class=\"dataframe\">\n",
       "  <thead>\n",
       "    <tr style=\"text-align: right;\">\n",
       "      <th></th>\n",
       "      <th>lat</th>\n",
       "      <th>lon</th>\n",
       "      <th>time</th>\n",
       "      <th>seg_x</th>\n",
       "      <th>seg_len</th>\n",
       "      <th>freeboard</th>\n",
       "      <th>stype</th>\n",
       "      <th>beam</th>\n",
       "      <th>geometry</th>\n",
       "    </tr>\n",
       "  </thead>\n",
       "  <tbody>\n",
       "    <tr>\n",
       "      <th>0</th>\n",
       "      <td>-69.671870</td>\n",
       "      <td>-38.882061</td>\n",
       "      <td>2023-04-02</td>\n",
       "      <td>27842.484311</td>\n",
       "      <td>113.762451</td>\n",
       "      <td>0.080979</td>\n",
       "      <td>7</td>\n",
       "      <td>gt2l</td>\n",
       "      <td>POINT (-38.88206 -69.67187)</td>\n",
       "    </tr>\n",
       "    <tr>\n",
       "      <th>1</th>\n",
       "      <td>-69.672046</td>\n",
       "      <td>-38.882119</td>\n",
       "      <td>2023-04-02</td>\n",
       "      <td>27842.504093</td>\n",
       "      <td>70.563065</td>\n",
       "      <td>0.083086</td>\n",
       "      <td>7</td>\n",
       "      <td>gt2l</td>\n",
       "      <td>POINT (-38.88212 -69.67205)</td>\n",
       "    </tr>\n",
       "    <tr>\n",
       "      <th>2</th>\n",
       "      <td>-69.672163</td>\n",
       "      <td>-38.882158</td>\n",
       "      <td>2023-04-02</td>\n",
       "      <td>27842.517195</td>\n",
       "      <td>48.439163</td>\n",
       "      <td>0.078319</td>\n",
       "      <td>1</td>\n",
       "      <td>gt2l</td>\n",
       "      <td>POINT (-38.88216 -69.67216)</td>\n",
       "    </tr>\n",
       "    <tr>\n",
       "      <th>3</th>\n",
       "      <td>-69.672375</td>\n",
       "      <td>-38.882229</td>\n",
       "      <td>2023-04-02</td>\n",
       "      <td>27842.541006</td>\n",
       "      <td>39.130844</td>\n",
       "      <td>0.072192</td>\n",
       "      <td>1</td>\n",
       "      <td>gt2l</td>\n",
       "      <td>POINT (-38.88223 -69.67238)</td>\n",
       "    </tr>\n",
       "    <tr>\n",
       "      <th>4</th>\n",
       "      <td>-69.672467</td>\n",
       "      <td>-38.882261</td>\n",
       "      <td>2023-04-02</td>\n",
       "      <td>27842.551321</td>\n",
       "      <td>54.581070</td>\n",
       "      <td>0.079438</td>\n",
       "      <td>7</td>\n",
       "      <td>gt2l</td>\n",
       "      <td>POINT (-38.88226 -69.67247)</td>\n",
       "    </tr>\n",
       "    <tr>\n",
       "      <th>...</th>\n",
       "      <td>...</td>\n",
       "      <td>...</td>\n",
       "      <td>...</td>\n",
       "      <td>...</td>\n",
       "      <td>...</td>\n",
       "      <td>...</td>\n",
       "      <td>...</td>\n",
       "      <td>...</td>\n",
       "      <td>...</td>\n",
       "    </tr>\n",
       "    <tr>\n",
       "      <th>44097</th>\n",
       "      <td>-76.931044</td>\n",
       "      <td>-33.512214</td>\n",
       "      <td>2023-04-15</td>\n",
       "      <td>28660.934034</td>\n",
       "      <td>23.907610</td>\n",
       "      <td>0.129440</td>\n",
       "      <td>1</td>\n",
       "      <td>gt2l</td>\n",
       "      <td>POINT (-33.51221 -76.93104)</td>\n",
       "    </tr>\n",
       "    <tr>\n",
       "      <th>44098</th>\n",
       "      <td>-76.931131</td>\n",
       "      <td>-33.512278</td>\n",
       "      <td>2023-04-15</td>\n",
       "      <td>28660.943841</td>\n",
       "      <td>21.109417</td>\n",
       "      <td>0.121935</td>\n",
       "      <td>1</td>\n",
       "      <td>gt2l</td>\n",
       "      <td>POINT (-33.51228 -76.93113)</td>\n",
       "    </tr>\n",
       "    <tr>\n",
       "      <th>44099</th>\n",
       "      <td>-76.931223</td>\n",
       "      <td>-33.512347</td>\n",
       "      <td>2023-04-15</td>\n",
       "      <td>28660.954308</td>\n",
       "      <td>20.412125</td>\n",
       "      <td>0.111120</td>\n",
       "      <td>1</td>\n",
       "      <td>gt2l</td>\n",
       "      <td>POINT (-33.51235 -76.93122)</td>\n",
       "    </tr>\n",
       "    <tr>\n",
       "      <th>44100</th>\n",
       "      <td>-76.931314</td>\n",
       "      <td>-33.512415</td>\n",
       "      <td>2023-04-15</td>\n",
       "      <td>28660.964548</td>\n",
       "      <td>20.427128</td>\n",
       "      <td>0.115933</td>\n",
       "      <td>1</td>\n",
       "      <td>gt2l</td>\n",
       "      <td>POINT (-33.51241 -76.93131)</td>\n",
       "    </tr>\n",
       "    <tr>\n",
       "      <th>44101</th>\n",
       "      <td>-76.931388</td>\n",
       "      <td>-33.512471</td>\n",
       "      <td>2023-04-15</td>\n",
       "      <td>28660.973013</td>\n",
       "      <td>19.029787</td>\n",
       "      <td>0.121202</td>\n",
       "      <td>1</td>\n",
       "      <td>gt2l</td>\n",
       "      <td>POINT (-33.51247 -76.93139)</td>\n",
       "    </tr>\n",
       "  </tbody>\n",
       "</table>\n",
       "<p>758433 rows × 9 columns</p>\n",
       "</div>"
      ],
      "text/plain": [
       "             lat        lon       time         seg_x     seg_len  freeboard  \\\n",
       "0     -69.671870 -38.882061 2023-04-02  27842.484311  113.762451   0.080979   \n",
       "1     -69.672046 -38.882119 2023-04-02  27842.504093   70.563065   0.083086   \n",
       "2     -69.672163 -38.882158 2023-04-02  27842.517195   48.439163   0.078319   \n",
       "3     -69.672375 -38.882229 2023-04-02  27842.541006   39.130844   0.072192   \n",
       "4     -69.672467 -38.882261 2023-04-02  27842.551321   54.581070   0.079438   \n",
       "...          ...        ...        ...           ...         ...        ...   \n",
       "44097 -76.931044 -33.512214 2023-04-15  28660.934034   23.907610   0.129440   \n",
       "44098 -76.931131 -33.512278 2023-04-15  28660.943841   21.109417   0.121935   \n",
       "44099 -76.931223 -33.512347 2023-04-15  28660.954308   20.412125   0.111120   \n",
       "44100 -76.931314 -33.512415 2023-04-15  28660.964548   20.427128   0.115933   \n",
       "44101 -76.931388 -33.512471 2023-04-15  28660.973013   19.029787   0.121202   \n",
       "\n",
       "       stype  beam                     geometry  \n",
       "0          7  gt2l  POINT (-38.88206 -69.67187)  \n",
       "1          7  gt2l  POINT (-38.88212 -69.67205)  \n",
       "2          1  gt2l  POINT (-38.88216 -69.67216)  \n",
       "3          1  gt2l  POINT (-38.88223 -69.67238)  \n",
       "4          7  gt2l  POINT (-38.88226 -69.67247)  \n",
       "...      ...   ...                          ...  \n",
       "44097      1  gt2l  POINT (-33.51221 -76.93104)  \n",
       "44098      1  gt2l  POINT (-33.51228 -76.93113)  \n",
       "44099      1  gt2l  POINT (-33.51235 -76.93122)  \n",
       "44100      1  gt2l  POINT (-33.51241 -76.93131)  \n",
       "44101      1  gt2l  POINT (-33.51247 -76.93139)  \n",
       "\n",
       "[758433 rows x 9 columns]"
      ]
     },
     "execution_count": 65,
     "metadata": {},
     "output_type": "execute_result"
    }
   ],
   "source": [
    "one_month"
   ]
  },
  {
   "cell_type": "code",
   "execution_count": 69,
   "metadata": {
    "tags": []
   },
   "outputs": [
    {
     "data": {
      "text/html": [
       "<div>\n",
       "<style scoped>\n",
       "    .dataframe tbody tr th:only-of-type {\n",
       "        vertical-align: middle;\n",
       "    }\n",
       "\n",
       "    .dataframe tbody tr th {\n",
       "        vertical-align: top;\n",
       "    }\n",
       "\n",
       "    .dataframe thead th {\n",
       "        text-align: right;\n",
       "    }\n",
       "</style>\n",
       "<table border=\"1\" class=\"dataframe\">\n",
       "  <thead>\n",
       "    <tr style=\"text-align: right;\">\n",
       "      <th></th>\n",
       "      <th>lat</th>\n",
       "      <th>lon</th>\n",
       "      <th>time</th>\n",
       "      <th>seg_x</th>\n",
       "      <th>seg_len</th>\n",
       "      <th>freeboard</th>\n",
       "      <th>stype</th>\n",
       "      <th>beam</th>\n",
       "      <th>geometry</th>\n",
       "    </tr>\n",
       "  </thead>\n",
       "  <tbody>\n",
       "    <tr>\n",
       "      <th>0</th>\n",
       "      <td>-69.671870</td>\n",
       "      <td>-38.882061</td>\n",
       "      <td>2023-04-02</td>\n",
       "      <td>27842.484311</td>\n",
       "      <td>113.762451</td>\n",
       "      <td>0.080979</td>\n",
       "      <td>7</td>\n",
       "      <td>gt2l</td>\n",
       "      <td>POINT (-38.88206 -69.67187)</td>\n",
       "    </tr>\n",
       "    <tr>\n",
       "      <th>1</th>\n",
       "      <td>-69.672046</td>\n",
       "      <td>-38.882119</td>\n",
       "      <td>2023-04-02</td>\n",
       "      <td>27842.504093</td>\n",
       "      <td>70.563065</td>\n",
       "      <td>0.083086</td>\n",
       "      <td>7</td>\n",
       "      <td>gt2l</td>\n",
       "      <td>POINT (-38.88212 -69.67205)</td>\n",
       "    </tr>\n",
       "    <tr>\n",
       "      <th>2</th>\n",
       "      <td>-69.672163</td>\n",
       "      <td>-38.882158</td>\n",
       "      <td>2023-04-02</td>\n",
       "      <td>27842.517195</td>\n",
       "      <td>48.439163</td>\n",
       "      <td>0.078319</td>\n",
       "      <td>1</td>\n",
       "      <td>gt2l</td>\n",
       "      <td>POINT (-38.88216 -69.67216)</td>\n",
       "    </tr>\n",
       "    <tr>\n",
       "      <th>3</th>\n",
       "      <td>-69.672375</td>\n",
       "      <td>-38.882229</td>\n",
       "      <td>2023-04-02</td>\n",
       "      <td>27842.541006</td>\n",
       "      <td>39.130844</td>\n",
       "      <td>0.072192</td>\n",
       "      <td>1</td>\n",
       "      <td>gt2l</td>\n",
       "      <td>POINT (-38.88223 -69.67238)</td>\n",
       "    </tr>\n",
       "    <tr>\n",
       "      <th>4</th>\n",
       "      <td>-69.672467</td>\n",
       "      <td>-38.882261</td>\n",
       "      <td>2023-04-02</td>\n",
       "      <td>27842.551321</td>\n",
       "      <td>54.581070</td>\n",
       "      <td>0.079438</td>\n",
       "      <td>7</td>\n",
       "      <td>gt2l</td>\n",
       "      <td>POINT (-38.88226 -69.67247)</td>\n",
       "    </tr>\n",
       "    <tr>\n",
       "      <th>...</th>\n",
       "      <td>...</td>\n",
       "      <td>...</td>\n",
       "      <td>...</td>\n",
       "      <td>...</td>\n",
       "      <td>...</td>\n",
       "      <td>...</td>\n",
       "      <td>...</td>\n",
       "      <td>...</td>\n",
       "      <td>...</td>\n",
       "    </tr>\n",
       "    <tr>\n",
       "      <th>43452</th>\n",
       "      <td>-77.650092</td>\n",
       "      <td>-43.168403</td>\n",
       "      <td>2023-04-02</td>\n",
       "      <td>28742.425602</td>\n",
       "      <td>20.503485</td>\n",
       "      <td>0.176483</td>\n",
       "      <td>1</td>\n",
       "      <td>gt2l</td>\n",
       "      <td>POINT (-43.16840 -77.65009)</td>\n",
       "    </tr>\n",
       "    <tr>\n",
       "      <th>43453</th>\n",
       "      <td>-77.650161</td>\n",
       "      <td>-43.168461</td>\n",
       "      <td>2023-04-02</td>\n",
       "      <td>28742.433477</td>\n",
       "      <td>18.386448</td>\n",
       "      <td>0.166642</td>\n",
       "      <td>1</td>\n",
       "      <td>gt2l</td>\n",
       "      <td>POINT (-43.16846 -77.65016)</td>\n",
       "    </tr>\n",
       "    <tr>\n",
       "      <th>43454</th>\n",
       "      <td>-77.650243</td>\n",
       "      <td>-43.168529</td>\n",
       "      <td>2023-04-02</td>\n",
       "      <td>28742.442807</td>\n",
       "      <td>19.801481</td>\n",
       "      <td>0.152029</td>\n",
       "      <td>1</td>\n",
       "      <td>gt2l</td>\n",
       "      <td>POINT (-43.16853 -77.65024)</td>\n",
       "    </tr>\n",
       "    <tr>\n",
       "      <th>43455</th>\n",
       "      <td>-77.650343</td>\n",
       "      <td>-43.168611</td>\n",
       "      <td>2023-04-02</td>\n",
       "      <td>28742.454094</td>\n",
       "      <td>22.640835</td>\n",
       "      <td>0.189416</td>\n",
       "      <td>1</td>\n",
       "      <td>gt2l</td>\n",
       "      <td>POINT (-43.16861 -77.65034)</td>\n",
       "    </tr>\n",
       "    <tr>\n",
       "      <th>43456</th>\n",
       "      <td>-77.650451</td>\n",
       "      <td>-43.168699</td>\n",
       "      <td>2023-04-02</td>\n",
       "      <td>28742.466313</td>\n",
       "      <td>22.651630</td>\n",
       "      <td>0.217943</td>\n",
       "      <td>1</td>\n",
       "      <td>gt2l</td>\n",
       "      <td>POINT (-43.16870 -77.65045)</td>\n",
       "    </tr>\n",
       "  </tbody>\n",
       "</table>\n",
       "<p>43457 rows × 9 columns</p>\n",
       "</div>"
      ],
      "text/plain": [
       "             lat        lon       time         seg_x     seg_len  freeboard  \\\n",
       "0     -69.671870 -38.882061 2023-04-02  27842.484311  113.762451   0.080979   \n",
       "1     -69.672046 -38.882119 2023-04-02  27842.504093   70.563065   0.083086   \n",
       "2     -69.672163 -38.882158 2023-04-02  27842.517195   48.439163   0.078319   \n",
       "3     -69.672375 -38.882229 2023-04-02  27842.541006   39.130844   0.072192   \n",
       "4     -69.672467 -38.882261 2023-04-02  27842.551321   54.581070   0.079438   \n",
       "...          ...        ...        ...           ...         ...        ...   \n",
       "43452 -77.650092 -43.168403 2023-04-02  28742.425602   20.503485   0.176483   \n",
       "43453 -77.650161 -43.168461 2023-04-02  28742.433477   18.386448   0.166642   \n",
       "43454 -77.650243 -43.168529 2023-04-02  28742.442807   19.801481   0.152029   \n",
       "43455 -77.650343 -43.168611 2023-04-02  28742.454094   22.640835   0.189416   \n",
       "43456 -77.650451 -43.168699 2023-04-02  28742.466313   22.651630   0.217943   \n",
       "\n",
       "       stype  beam                     geometry  \n",
       "0          7  gt2l  POINT (-38.88206 -69.67187)  \n",
       "1          7  gt2l  POINT (-38.88212 -69.67205)  \n",
       "2          1  gt2l  POINT (-38.88216 -69.67216)  \n",
       "3          1  gt2l  POINT (-38.88223 -69.67238)  \n",
       "4          7  gt2l  POINT (-38.88226 -69.67247)  \n",
       "...      ...   ...                          ...  \n",
       "43452      1  gt2l  POINT (-43.16840 -77.65009)  \n",
       "43453      1  gt2l  POINT (-43.16846 -77.65016)  \n",
       "43454      1  gt2l  POINT (-43.16853 -77.65024)  \n",
       "43455      1  gt2l  POINT (-43.16861 -77.65034)  \n",
       "43456      1  gt2l  POINT (-43.16870 -77.65045)  \n",
       "\n",
       "[43457 rows x 9 columns]"
      ]
     },
     "execution_count": 69,
     "metadata": {},
     "output_type": "execute_result"
    }
   ],
   "source": [
    "read_atl10(value[0]).loc[:]"
   ]
  },
  {
   "cell_type": "code",
   "execution_count": 81,
   "metadata": {
    "tags": []
   },
   "outputs": [
    {
     "name": "stdout",
     "output_type": "stream",
     "text": [
      "['a', 'b', 'c', 1, 2, 3]\n"
     ]
    }
   ],
   "source": [
    "list1 = [\"a\", \"b\" , \"c\"]\n",
    "list2 = [1, 2, 3]\n",
    "\n",
    "list3 = list1 + list2\n",
    "print(list3)"
   ]
  },
  {
   "cell_type": "code",
   "execution_count": 82,
   "metadata": {
    "tags": []
   },
   "outputs": [],
   "source": [
    "fb = []\n",
    "for file in value[:4]:\n",
    "    fb.append(read_atl10(file).loc[::3]) "
   ]
  },
  {
   "cell_type": "code",
   "execution_count": 85,
   "metadata": {
    "tags": []
   },
   "outputs": [],
   "source": [
    "three_month = pd.concat(fb)"
   ]
  },
  {
   "cell_type": "code",
   "execution_count": 87,
   "metadata": {
    "tags": []
   },
   "outputs": [],
   "source": [
    "title = key\n",
    "title += f\"_{key}\""
   ]
  },
  {
   "cell_type": "code",
   "execution_count": 92,
   "metadata": {
    "tags": []
   },
   "outputs": [
    {
     "data": {
      "text/plain": [
       "WindowsPath('D:/Floes/ATL10/ATL10-02_20181014172058_02460101_006_02.h5')"
      ]
     },
     "execution_count": 92,
     "metadata": {},
     "output_type": "execute_result"
    }
   ],
   "source": [
    "value[0]"
   ]
  },
  {
   "cell_type": "code",
   "execution_count": 95,
   "metadata": {
    "tags": []
   },
   "outputs": [
    {
     "name": "stdout",
     "output_type": "stream",
     "text": [
      "processing 2018-10\n",
      "processing 2018-11\n",
      "processing 2018-12\n",
      "processing 2019-01\n",
      "processing 2019-02\n",
      "processing 2019-03\n",
      "processing 2019-04\n",
      "processing 2019-05\n",
      "processing 2019-06\n",
      "processing 2019-07\n",
      "processing 2019-08\n",
      "processing 2019-09\n",
      "processing 2019-10\n",
      "processing 2019-11\n",
      "processing 2019-12\n",
      "processing 2020-01\n",
      "processing 2020-02\n",
      "processing 2020-03\n",
      "processing 2020-04\n",
      "processing 2020-05\n",
      "processing 2020-06\n",
      "processing 2020-07\n",
      "processing 2020-08\n",
      "processing 2020-09\n",
      "processing 2020-10\n",
      "processing 2020-11\n",
      "processing 2020-12\n",
      "processing 2021-01\n",
      "processing 2021-02\n",
      "processing 2021-03\n",
      "processing 2021-04\n",
      "processing 2021-05\n",
      "processing 2021-06\n",
      "processing 2021-07\n",
      "processing 2021-08\n",
      "processing 2021-09\n",
      "processing 2021-10\n",
      "processing 2021-11\n",
      "processing 2021-12\n",
      "processing 2022-01\n",
      "processing 2022-02\n",
      "processing 2022-03\n",
      "processing 2022-04\n",
      "processing 2022-05\n",
      "processing 2022-06\n",
      "processing 2022-07\n",
      "processing 2022-08\n",
      "processing 2022-09\n",
      "processing 2022-10\n",
      "processing 2022-11\n",
      "processing 2022-12\n",
      "processing 2023-01\n",
      "processing 2023-02\n",
      "processing 2023-03\n",
      "processing 2023-04\n"
     ]
    }
   ],
   "source": [
    "for key, value in months.items():\n",
    "    print(\"processing\", key)  \n",
    "    \n",
    "    if key[-2:] in [\"10\", \"01\", \"04\", \"07\"]:\n",
    "        fb = []\n",
    "        first = True  \n",
    "        title = key\n",
    "    \n",
    "    for file in value:\n",
    "        fb.append(read_atl10(file).loc[::3])    \n",
    "    \n",
    "    if key[-2:] in [\"12\", \"03\", \"06\", \"09\"]:\n",
    "        title += f\"_{key}\"\n",
    "        three_month = pd.concat(fb)\n",
    "\n",
    "        # Define the figure and each axis\n",
    "        fig, ax = plt.subplots(nrows=1,ncols=1,\n",
    "                               subplot_kw={'projection': ccrs.SouthPolarStereo(true_scale_latitude=-70)},\n",
    "                               figsize = (7,7))\n",
    "\n",
    "        ax.set_facecolor('whitesmoke')\n",
    "        ax.set_xlim([-3000000,0])\n",
    "        ax.set_ylim([300000,3250000])\n",
    "        three_month.to_crs(\"EPSG:3031\").plot(marker='*', color='blue', markersize=2, ax=ax)\n",
    "        ax.coastlines()\n",
    "\n",
    "        ax.annotate(f\"{title}\", xy=(0.03, 0.97), xycoords='axes fraction', fontsize=15, ha='left', va='top', color = \"k\")\n",
    "        plt.savefig(f\"D:\\\\Floes\\\\figures\\\\Tracks_3months_{title}.png\", bbox_inches = \"tight\")\n",
    "        plt.close()"
   ]
  },
  {
   "cell_type": "code",
   "execution_count": 51,
   "metadata": {
    "tags": []
   },
   "outputs": [
    {
     "name": "stdout",
     "output_type": "stream",
     "text": [
      "processing D:\\Floes\\ATL10\\ATL10-02_20181216135905_12060101_006_02.h5\n"
     ]
    }
   ],
   "source": [
    "df = read_atl10(file)"
   ]
  },
  {
   "cell_type": "code",
   "execution_count": 52,
   "metadata": {
    "tags": []
   },
   "outputs": [
    {
     "data": {
      "text/plain": [
       "[]"
      ]
     },
     "execution_count": 52,
     "metadata": {},
     "output_type": "execute_result"
    }
   ],
   "source": [
    "df"
   ]
  },
  {
   "cell_type": "code",
   "execution_count": 9,
   "metadata": {},
   "outputs": [],
   "source": [
    "# We are only grabbing one month here and converting it to csv\n",
    "# fb[1].to_csv(\"/g/data/jk72/sc0554/floes/beam_fb_height_young_data_201811.csv\")"
   ]
  },
  {
   "cell_type": "markdown",
   "metadata": {},
   "source": [
    "## Plotting"
   ]
  },
  {
   "cell_type": "code",
   "execution_count": 11,
   "metadata": {
    "tags": []
   },
   "outputs": [
    {
     "name": "stderr",
     "output_type": "stream",
     "text": [
      "\n",
      "KeyboardInterrupt\n",
      "\n"
     ]
    },
    {
     "name": "stdout",
     "output_type": "stream",
     "text": [
      "Error in callback <function _draw_all_if_interactive at 0x0000015374780C10> (for post_execute):\n",
      "Error in callback <function flush_figures at 0x00000153051D25F0> (for post_execute):\n"
     ]
    },
    {
     "name": "stderr",
     "output_type": "stream",
     "text": [
      "\n",
      "KeyboardInterrupt\n",
      "\n",
      "\n",
      "KeyboardInterrupt\n",
      "\n"
     ]
    }
   ],
   "source": [
    "# Define the figure and each axis\n",
    "fig, axs = plt.subplots(nrows=1,ncols=4,\n",
    "                        subplot_kw={'projection': ccrs.SouthPolarStereo(true_scale_latitude=-70)},\n",
    "                       figsize = (10,10))\n",
    "\n",
    "# axs is a 2 dimensional array of `GeoAxes`.  We will flatten it into a 1-D array\n",
    "axs=axs.flatten()\n",
    "\n",
    "#Loop over all of the models\n",
    "# REPLACE SIMULATED DATA WITH FB IF HAS 12 months of data\n",
    "for i, month in enumerate(simulated_data):\n",
    "    if i in range(0,3):\n",
    "        ax = axs[0]\n",
    "        ax.set_facecolor('whitesmoke')\n",
    "        ax.set_xlim([-3000000,0])\n",
    "        ax.set_ylim([300000,3250000])\n",
    "        month[month['beam']=='gt2r'].to_crs(\"EPSG:3031\").plot(marker='*', color='#fd8d3c', markersize=3, ax=ax)\n",
    "        ax.coastlines()\n",
    "        ax.set_title('Jan-Feb-Mar')\n",
    "    if i in range(3,6):\n",
    "        ax = axs[1]\n",
    "        ax.set_facecolor('whitesmoke')\n",
    "        ax.set_xlim([-3000000,0])\n",
    "        ax.set_ylim([300000,3250000])\n",
    "        month[month['beam']=='gt2r'].to_crs(\"EPSG:3031\").plot(marker='*', color='#fc4e2a', markersize=3, ax=ax)\n",
    "        ax.coastlines()\n",
    "        ax.set_title('Apr-May-Jun')\n",
    "    if i in range(6,9):\n",
    "        ax = axs[2]\n",
    "        ax.set_facecolor('whitesmoke')\n",
    "        ax.set_xlim([-3000000,0])\n",
    "        ax.set_ylim([300000,3250000])\n",
    "        month[month['beam']=='gt2r'].to_crs(\"EPSG:3031\").plot(marker='*', color='#e31a1c', markersize=3, ax=ax)\n",
    "        ax.coastlines()\n",
    "        ax.set_title('Jul-Aug-Sep')\n",
    "    if i in range(9,12):\n",
    "        ax = axs[3]\n",
    "        ax.set_facecolor('whitesmoke')\n",
    "        ax.set_xlim([-3000000,0])\n",
    "        ax.set_ylim([300000,3250000])\n",
    "        month[month['beam']=='gt2r'].to_crs(\"EPSG:3031\").plot(marker='*', color='#b10026', markersize=3, ax=ax)\n",
    "        ax.coastlines()\n",
    "        ax.set_title('Oct-Nov-Dec')"
   ]
  },
  {
   "cell_type": "code",
   "execution_count": 18,
   "metadata": {
    "tags": []
   },
   "outputs": [
    {
     "data": {
      "image/png": "[encoded data removed]",
      "text/plain": [
       "<Figure size 1000x1000 with 2 Axes>"
      ]
     },
     "metadata": {},
     "output_type": "display_data"
    }
   ],
   "source": [
    "# Define the figure and each axis\n",
    "fig, axs = plt.subplots(nrows=1,ncols=2,\n",
    "                        subplot_kw={'projection': ccrs.SouthPolarStereo(true_scale_latitude=-70)},\n",
    "                       figsize = (10,10))\n",
    "\n",
    "# axs is a 2 dimensional array of `GeoAxes`.  We will flatten it into a 1-D array\n",
    "axs=axs.flatten()\n",
    "\n",
    "#Loop over all of the models\n",
    "for i, month in enumerate(fb):\n",
    "    ax = axs[i]\n",
    "    ax.set_facecolor('whitesmoke')\n",
    "    ax.set_xlim([-3000000,0])\n",
    "    ax.set_ylim([300000,3250000])\n",
    "    month[month['beam']=='gt2r'].to_crs(\"EPSG:3031\").plot(marker='*', color='red', markersize=3, ax=ax)\n",
    "    ax.coastlines()\n",
    "    \n",
    "    "
   ]
  },
  {
   "cell_type": "markdown",
   "metadata": {},
   "source": [
    "## Single plot"
   ]
  },
  {
   "cell_type": "code",
   "execution_count": 17,
   "metadata": {},
   "outputs": [
    {
     "data": {
      "image/png": "[encoded data removed]",
      "text/plain": [
       "<Figure size 1000x1000 with 1 Axes>"
      ]
     },
     "metadata": {},
     "output_type": "display_data"
    }
   ],
   "source": [
    "fig = plt.figure(figsize=(10,10))\n",
    "\n",
    "\n",
    "ax=fig.add_subplot(projection=ccrs.SouthPolarStereo(true_scale_latitude=-70))\n",
    "ax.set_facecolor('whitesmoke')\n",
    "\n",
    "ax.set_xlim([-3000000,0])\n",
    "ax.set_ylim([300000,3500000])\n",
    "\n",
    "fb[0][fb[0]['beam']=='gt2r'].to_crs(\"EPSG:3031\").plot(marker='*', color='red', markersize=3, ax=ax)\n",
    "\n",
    "# gl = ax.gridlines(\n",
    "#     draw_labels=True, linewidth=1, color='gray', alpha=0.5, linestyle='--',\n",
    "#     xlocs=[-150,-120,-90,-60,-30,0,30,60,90,120,150,180], ylocs=[-50,-60,-70,-80]\n",
    "# )\n",
    "\n",
    "ax.coastlines()\n",
    "# plt.savefig(f'/g/data/gv90/P6_data/report_card/report_card_{year}{month}.png',bbox_inches='tight')\n",
    "plt.show()"
   ]
  },
  {
   "cell_type": "markdown",
   "metadata": {
    "jp-MarkdownHeadingCollapsed": true,
    "tags": []
   },
   "source": [
    "## Scratch"
   ]
  },
  {
   "cell_type": "code",
   "execution_count": 82,
   "metadata": {},
   "outputs": [
    {
     "name": "stderr",
     "output_type": "stream",
     "text": [
      "/jobfs/105820541.gadi-pbs/ipykernel_3367325/2766593756.py:1: FutureWarning: The geopandas.dataset module is deprecated and will be removed in GeoPandas 1.0. You can get the original 'naturalearth_lowres' data from https://www.naturalearthdata.com/downloads/110m-cultural-vectors/.\n",
      "  world = gpd.read_file(gpd.datasets.get_path('naturalearth_lowres'))\n"
     ]
    },
    {
     "data": {
      "image/png": "[encoded data removed]",
      "text/plain": [
       "<Figure size 640x480 with 2 Axes>"
      ]
     },
     "metadata": {},
     "output_type": "display_data"
    }
   ],
   "source": [
    "world = gpd.read_file(gpd.datasets.get_path('naturalearth_lowres'))\n",
    "world_antarctic = world.to_crs('epsg:3031')\n",
    "antarctica_3031 = world_antarctic[world_antarctic['name']=='Antarctica']\n",
    "crs4326 = pyproj.CRS.from_epsg(4326)    # WGS84\n",
    "crs3031 = pyproj.CRS.from_epsg(3031)    # Antarctic Polar Stereographic\n",
    "transformer = pyproj.Transformer.from_crs(crs4326, crs3031, always_xy=True)\n",
    "\n",
    "fig, ax = plt.subplots(1, 2)\n",
    "\n",
    "plt.tight_layout()   \n",
    "fig.tight_layout()\n",
    "\n",
    "[axi.xaxis.set_visible(False) for axi in ax.ravel()]\n",
    "[axi.yaxis.set_visible(False) for axi in ax.ravel()]\n",
    "\n",
    "month = 0\n",
    "for x in ax:\n",
    "    x.set_xlim([-3000000,0])\n",
    "    x.set_ylim([300000,3500000])\n",
    "    # antarctica_3031.plot(ax=x, color='0.8', edgecolor='black')\n",
    "    coastline.plot(ax=x, edgecolor='black')\n",
    "    fb[month][fb[month]['beam']=='gt2r'].to_crs(\"EPSG:3031\").plot(marker='*', color='red', markersize=3, ax=x)\n",
    "    month+=1"
   ]
  }
 ],
 "metadata": {
  "kernelspec": {
   "display_name": "Python 3 (ipykernel)",
   "language": "python",
   "name": "python3"
  },
  "language_info": {
   "codemirror_mode": {
    "name": "ipython",
    "version": 3
   },
   "file_extension": ".py",
   "mimetype": "text/x-python",
   "name": "python",
   "nbconvert_exporter": "python",
   "pygments_lexer": "ipython3",
   "version": "3.10.14"
  },
  "widgets": {
   "application/vnd.jupyter.widget-state+json": {
    "state": {},
    "version_major": 2,
    "version_minor": 0
   }
  }
 },
 "nbformat": 4,
 "nbformat_minor": 4
}
