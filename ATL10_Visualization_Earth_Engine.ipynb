{
 "cells": [
  {
   "cell_type": "markdown",
   "id": "e32f5e06",
   "metadata": {
    "tags": []
   },
   "source": [
    "# Interactive Visualizion with Open Altimetry & Google Earth Engine\n",
    "\n",
    "## Learning Objectives\n",
    "- Load ICESat-2 data using the OpenAltimetry API. \n",
    "- Query Google Earth Engine for geospatial raster data and display it along with ICESat-2 ground tracks on an interactive map.\n",
    "- Better understand what you are looking at in ATL03 features without downloading a bunch of files."
   ]
  },
  {
   "cell_type": "markdown",
   "id": "70c41bfd",
   "metadata": {},
   "source": [
    "## Computing environment\n",
    "\n",
    "We'll be using the following Python libraries in this notebook:"
   ]
  },
  {
   "cell_type": "code",
   "execution_count": 1,
   "id": "b620e261",
   "metadata": {},
   "outputs": [],
   "source": [
    "%matplotlib widget\n",
    "import os\n",
    "import ee\n",
    "import geemap\n",
    "import requests\n",
    "import numpy as np\n",
    "import matplotlib.pylab as plt\n",
    "from datetime import datetime\n",
    "from datetime import timedelta\n",
    "# import rasterio as rio\n",
    "# from rasterio import plot\n",
    "# from rasterio import warp\n",
    "import h5py\n",
    "import pandas as pd\n",
    "\n",
    "from datetime import datetime\n",
    "\n",
    "import datetime as dt\n",
    "\n",
    "import scipy.stats\n",
    "\n",
    "import os\n",
    "import shutil\n",
    "\n",
    "# import icepyx as ipx\n",
    "\n",
    "import warnings\n",
    "warnings.filterwarnings('ignore')"
   ]
  },
  {
   "cell_type": "markdown",
   "id": "8045b0c8",
   "metadata": {},
   "source": [
    "    \n",
    "The import below is a class that I wrote myself. It helps us read and store data from the OpenAltimetry API.  \n",
    "If you are interested in how this works, you can find the code in `utils/oa.py`."
   ]
  },
  {
   "cell_type": "markdown",
   "id": "af6cf554",
   "metadata": {},
   "source": [
    "## Google Earth Engine Authentication and Initialization\n",
    "GEE requires you to authenticate your access, so if `ee.Initialize()` does not work you first need to run `ee.Authenticate()`. This gives you a link at which you can use your google account that is associated with GEE to get an authorization code. Copy the authorization code into the input field and hit *enter* to complete authentication. "
   ]
  },
  {
   "cell_type": "code",
   "execution_count": 2,
   "id": "35c40816",
   "metadata": {},
   "outputs": [],
   "source": [
    "try:\n",
    "    ee.Initialize()\n",
    "except: \n",
    "    ee.Authenticate()\n",
    "    ee.Initialize()"
   ]
  },
  {
   "cell_type": "markdown",
   "id": "f940b7f1",
   "metadata": {},
   "source": [
    "## Download ATL10 files using icepyx"
   ]
  },
  {
   "cell_type": "markdown",
   "id": "d84058ca",
   "metadata": {},
   "source": [
    "####  Read the list of ATL10 and Sentinel-2 pairs."
   ]
  },
  {
   "cell_type": "code",
   "execution_count": 3,
   "id": "5af9aa19",
   "metadata": {},
   "outputs": [
    {
     "name": "stdout",
     "output_type": "stream",
     "text": [
      "Amundsen\n",
      "111\n"
     ]
    },
    {
     "data": {
      "text/html": [
       "<div>\n",
       "<style scoped>\n",
       "    .dataframe tbody tr th:only-of-type {\n",
       "        vertical-align: middle;\n",
       "    }\n",
       "\n",
       "    .dataframe tbody tr th {\n",
       "        vertical-align: top;\n",
       "    }\n",
       "\n",
       "    .dataframe thead th {\n",
       "        text-align: right;\n",
       "    }\n",
       "</style>\n",
       "<table border=\"1\" class=\"dataframe\">\n",
       "  <thead>\n",
       "    <tr style=\"text-align: right;\">\n",
       "      <th></th>\n",
       "      <th>IS2_file</th>\n",
       "      <th>S1_id</th>\n",
       "      <th>start_date</th>\n",
       "      <th>end_date</th>\n",
       "      <th>track</th>\n",
       "      <th>cycle</th>\n",
       "    </tr>\n",
       "  </thead>\n",
       "  <tbody>\n",
       "    <tr>\n",
       "      <th>0</th>\n",
       "      <td>ATL10-02_20190106173443_01420201_005_02.h5</td>\n",
       "      <td>COPERNICUS/S2_SR/20190106T154319_20190106T1543...</td>\n",
       "      <td>2019-01-06</td>\n",
       "      <td>2019-01-07</td>\n",
       "      <td>142</td>\n",
       "      <td>2</td>\n",
       "    </tr>\n",
       "    <tr>\n",
       "      <th>1</th>\n",
       "      <td>ATL10-02_20190111200916_02200201_005_02.h5</td>\n",
       "      <td>COPERNICUS/S2_SR/20190111T181509_20190111T1815...</td>\n",
       "      <td>2019-01-11</td>\n",
       "      <td>2019-01-12</td>\n",
       "      <td>220</td>\n",
       "      <td>2</td>\n",
       "    </tr>\n",
       "    <tr>\n",
       "      <th>2</th>\n",
       "      <td>ATL10-02_20190125171848_04320201_005_02.h5</td>\n",
       "      <td>COPERNICUS/S2_SR/20190125T161339_20190125T1613...</td>\n",
       "      <td>2019-01-25</td>\n",
       "      <td>2019-01-26</td>\n",
       "      <td>432</td>\n",
       "      <td>2</td>\n",
       "    </tr>\n",
       "    <tr>\n",
       "      <th>3</th>\n",
       "      <td>ATL10-02_20190126165310_04470201_005_02.h5</td>\n",
       "      <td>COPERNICUS/S2_SR/20190126T154319_20190126T1543...</td>\n",
       "      <td>2019-01-26</td>\n",
       "      <td>2019-01-27</td>\n",
       "      <td>447</td>\n",
       "      <td>2</td>\n",
       "    </tr>\n",
       "    <tr>\n",
       "      <th>4</th>\n",
       "      <td>ATL10-02_20190127162732_04620201_005_02.h5</td>\n",
       "      <td>COPERNICUS/S2_SR/20190127T151259_20190127T1512...</td>\n",
       "      <td>2019-01-27</td>\n",
       "      <td>2019-01-28</td>\n",
       "      <td>462</td>\n",
       "      <td>2</td>\n",
       "    </tr>\n",
       "  </tbody>\n",
       "</table>\n",
       "</div>"
      ],
      "text/plain": [
       "                                     IS2_file  \\\n",
       "0  ATL10-02_20190106173443_01420201_005_02.h5   \n",
       "1  ATL10-02_20190111200916_02200201_005_02.h5   \n",
       "2  ATL10-02_20190125171848_04320201_005_02.h5   \n",
       "3  ATL10-02_20190126165310_04470201_005_02.h5   \n",
       "4  ATL10-02_20190127162732_04620201_005_02.h5   \n",
       "\n",
       "                                               S1_id start_date   end_date  \\\n",
       "0  COPERNICUS/S2_SR/20190106T154319_20190106T1543... 2019-01-06 2019-01-07   \n",
       "1  COPERNICUS/S2_SR/20190111T181509_20190111T1815... 2019-01-11 2019-01-12   \n",
       "2  COPERNICUS/S2_SR/20190125T161339_20190125T1613... 2019-01-25 2019-01-26   \n",
       "3  COPERNICUS/S2_SR/20190126T154319_20190126T1543... 2019-01-26 2019-01-27   \n",
       "4  COPERNICUS/S2_SR/20190127T151259_20190127T1512... 2019-01-27 2019-01-28   \n",
       "\n",
       "   track  cycle  \n",
       "0    142      2  \n",
       "1    220      2  \n",
       "2    432      2  \n",
       "3    447      2  \n",
       "4    462      2  "
      ]
     },
     "execution_count": 3,
     "metadata": {},
     "output_type": "execute_result"
    }
   ],
   "source": [
    "region = \"Amundsen\"\n",
    "csvfile = \"F:\\\\IS2_floes\\\\Overlapped_ATL10_S2_{0}_2018-09-01_2022-03-31.csv\".format(region)\n",
    "# csvfile = \"F:\\\\IS2_floes\\\\Overlapped_ATL10_S2_{0}_2018-2022.csv\".format(region)\n",
    "filelist = pd.read_csv(csvfile, index_col = 0)\n",
    "\n",
    "short_name = 'ATL10'\n",
    "\n",
    "IS2_files = filelist.groupby(by = 'IS2_file', as_index = False).first()\n",
    "IS2_files['start_date'] = pd.to_datetime(IS2_files['start_date'])\n",
    "IS2_files['end_date'] = pd.to_datetime(IS2_files['end_date'])\n",
    "\n",
    "print(region)\n",
    "print(len(IS2_files))\n",
    "IS2_files.head(5)"
   ]
  },
  {
   "cell_type": "markdown",
   "id": "4f57c0eb",
   "metadata": {},
   "source": [
    "####  NOTE: Once you download all the ATL10 files in the filelist, you can skip the cell below."
   ]
  },
  {
   "cell_type": "code",
   "execution_count": null,
   "id": "905dca18",
   "metadata": {
    "scrolled": true
   },
   "outputs": [],
   "source": [
    "earthdata_uid = 'younghyunkoo' # Your earthdata id\n",
    "email = 'kooala317@gmail.com' # Your earthdata email\n",
    "# pswd = getpass.getpass('Earthdata Login password: ')\n",
    "\n",
    "if region == \"Amundsen\":\n",
    "    spatial_extent = [-150, -75, -100, -65] # Amundsen Sea\n",
    "elif region == \"Ross\":\n",
    "    spatial_extent = [-180, -78, -140, -70] # Ross Sea\n",
    "elif region == \"Weddell\":\n",
    "    spatial_extent = [-65, -77, -10, -60] # Weddell Sea\n",
    "    \n",
    "# Usage lower latitude images \n",
    "\n",
    "for i in range(5, len(IS2_files)):\n",
    "    \n",
    "    date_range = [IS2_files['start_date'][i].strftime(\"%Y-%m-%d\"), IS2_files['end_date'][i].strftime(\"%Y-%m-%d\")]\n",
    "    track = str(IS2_files['track'][i])\n",
    "    cycle = str(IS2_files['cycle'][i])\n",
    "\n",
    "    product = ipx.Query(product=short_name, spatial_extent=spatial_extent, date_range=date_range, tracks = track)\n",
    "    print(product.avail_granules(ids=True)[0])\n",
    "\n",
    "    product.earthdata_login(earthdata_uid, email)\n",
    "    product.order_granules()\n",
    "\n",
    "    path = \"F:\\\\IS2_floes\\\\ATL10\\\\{0}\".format(region) # Please put your path you want to download\n",
    "    product.download_granules(path)\n",
    "        \n"
   ]
  },
  {
   "cell_type": "markdown",
   "id": "ca78dd06",
   "metadata": {},
   "source": [
    "## Visualize ATL10 data and overlapped Sentinel-2 RGB image (new version)"
   ]
  },
  {
   "cell_type": "code",
   "execution_count": 171,
   "id": "4693f404",
   "metadata": {},
   "outputs": [
    {
     "name": "stdout",
     "output_type": "stream",
     "text": [
      "Valid k values: [0, 110]\n"
     ]
    }
   ],
   "source": [
    "print(\"Valid k values: [{0}, {1}]\".format(0, len(IS2_files)-1))"
   ]
  },
  {
   "cell_type": "code",
   "execution_count": 44,
   "id": "2f2244ef",
   "metadata": {
    "scrolled": false
   },
   "outputs": [
    {
     "name": "stdout",
     "output_type": "stream",
     "text": [
      "IS2:  F:\\IS2_floes\\ATL10\\Amundsen\\ATL10-02_20220112144159_03261401_005_01.h5\n",
      "1  [YES]  COPERNICUS/S2_SR/20220112T162339_20220112T162341_T09CWS\n",
      "Link to download:  https://earthengine.googleapis.com/v1alpha/projects/earthengine-legacy/thumbnails/752e69e229e8002fb48c1e03b6c4a1c3-c56181302abf406f9de6d6aada4cf5fb:getPixels\n",
      "2  [YES]  COPERNICUS/S2_SR/20220112T162339_20220112T162341_T09CWT\n",
      "Link to download:  https://earthengine.googleapis.com/v1alpha/projects/earthengine-legacy/thumbnails/d97e7e805b65b1254dddd76c491c25c7-8d46377bc80c2f8cd12d89e4f2c53e9d:getPixels\n"
     ]
    },
    {
     "data": {
      "application/vnd.jupyter.widget-view+json": {
       "model_id": "c33fe30e59aa46d2a68fd305d9094f55",
       "version_major": 2,
       "version_minor": 0
      },
      "text/plain": [
       "Map(center=[-68.28351467713118, -5.123642167520839], controls=(WidgetControl(options=['position'], widget=HBox…"
      ]
     },
     "metadata": {},
     "output_type": "display_data"
    }
   ],
   "source": [
    "# PLEASE CHANGE THIS K VALUE ==========================================\n",
    "k = 110 # Index of your IS2 file in your directory\n",
    "\n",
    "# WEDDELL: 3*, 4, (5), 6*, 7*, 8*, 9, 10, 18, 19*, 22, (24), (26), 30*, (32), 33*, 35, 36, (45), 46, 47,\n",
    "#          51, 52*, 56*, 59, 62, 66*, 69*, 73, 74*, 75*, 87*, 92,\n",
    "#          101, 103*, (109), 113, (114), 116*, (117), 118*, 119*, (123), (124), 125, 129, 131*, 132*, (135),  \n",
    "#          136, 137, 138*, (139), 140, 146, 147*, 148, (151), 165, 168*, 169, 172, 176*, 190, (194), 200*, 201*.\n",
    "\n",
    "# ROSS: 1*, 7, 10*, (11), (12), (13), (15), 16, 17*, 22, 23*, (24), 25, 27, 31, 32, (33), 38*, 40, 41, 42,\n",
    "#       43, 47, 48, 49, 50*, 52, 53*, 60, (63), (64), (65), (66), (67), (68), 70, (71), (72), 73, 74*, 75, 76,\n",
    "#       77, (78), 83, 84, (86), 89, 97.\n",
    "# In March images, the sea ice covers are \"thin/grey\" ice. (e.g. 63-68)\n",
    "\n",
    "# AMUNDSEN: (0), 6, 14, 20*, (21), 27*, (31), 38, 41*, (43), 47*, 49*, 51, 64, 65, (69), 70*, 71*, (72),\n",
    "#           78, 79, (80), 88, 89, 90, 91, 94*, 95, (96), 100*, 107, \n",
    "\n",
    "# TOTAL 40 pairs\n",
    "# =====================================================================\n",
    "\n",
    "# NOTE: IS2 ATL10 files should be downloaded first!!\n",
    "folder = 'F:\\\\IS2_floes\\\\ATL10\\\\' + region\n",
    "is2_file = folder + '\\\\' + IS2_files['IS2_file'][k] # IS2 filename in your directory\n",
    "\n",
    "date1 = datetime.strptime(is2_file.split(\"ATL10-02_\")[1][:8], \"%Y%m%d\").strftime(\"%Y-%m-%d\")\n",
    "date2 = (datetime.strptime(is2_file.split(\"ATL10-02_\")[1][:8], \"%Y%m%d\") + timedelta(days=1)).strftime(\"%Y-%m-%d\")\n",
    "\n",
    "overlap = False\n",
    "\n",
    "print(\"IS2: \", is2_file)\n",
    "\n",
    "with h5py.File(is2_file, 'r') as f:\n",
    "    beam = 'gt1l'\n",
    "    is2_l = pd.DataFrame(data={'lat': f[beam]['freeboard_beam_segment']['beam_freeboard']['latitude'][:],\n",
    "                              'lon': f[beam]['freeboard_beam_segment']['beam_freeboard']['longitude'][:],\n",
    "                              'elev': f[beam]['freeboard_beam_segment']['height_segments']['height_segment_height'][:],\n",
    "                             'freeboard': f[beam]['freeboard_beam_segment']['beam_freeboard']['beam_fb_height'][:],\n",
    "                              'type': f[beam]['freeboard_beam_segment']['height_segments']['height_segment_type'][:]\n",
    "                              })\n",
    "\n",
    "    beam = 'gt3r'\n",
    "    is2_r = pd.DataFrame(data={'lat': f[beam]['freeboard_beam_segment']['beam_freeboard']['latitude'][:],\n",
    "                              'lon': f[beam]['freeboard_beam_segment']['beam_freeboard']['longitude'][:],\n",
    "                              'elev': f[beam]['freeboard_beam_segment']['height_segments']['height_segment_height'][:],\n",
    "                             'freeboard': f[beam]['freeboard_beam_segment']['beam_freeboard']['beam_fb_height'][:],\n",
    "                              'type': f[beam]['freeboard_beam_segment']['height_segments']['height_segment_type'][:],\n",
    "                              })\n",
    "\n",
    "    is2_l = is2_l[is2_l['freeboard'] <= 10000].reset_index(drop=True)\n",
    "    is2_r = is2_r[is2_r['freeboard'] <= 10000].reset_index(drop=True)\n",
    "\n",
    "Map = geemap.Map(center=(is2_l.lat.mean(), is2_l.lon.mean()), zoom=7)\n",
    "\n",
    "if (len(is2_l) > 0) | (len(is2_r) > 0):\n",
    "    \n",
    "    track_l = list(zip([is2_l.lon[0], is2_l.lon[int(len(is2_l)/2)], is2_l.lon[len(is2_l)-1]],\n",
    "                       [is2_l.lat[0], is2_l.lat[int(len(is2_l)/2)], is2_l.lat[len(is2_l)-1]]))\n",
    "\n",
    "    track_r = list(zip([is2_r.lon[0], is2_r.lon[int(len(is2_r)/2)], is2_r.lon[len(is2_r)-1]],\n",
    "                       [is2_r.lat[0], is2_r.lat[int(len(is2_r)/2)], is2_r.lat[len(is2_r)-1]]))\n",
    "\n",
    "    feature_l = ee.FeatureCollection(ee.Geometry.LineString(coords=track_l, proj='EPSG:4326', geodesic=True))\n",
    "    feature_r = ee.FeatureCollection(ee.Geometry.LineString(coords=track_r, proj='EPSG:4326', geodesic=True)) \n",
    "\n",
    "    S2_ids = filelist[filelist['IS2_file'] == IS2_files['IS2_file'][k]]['S1_id'].values   \n",
    "\n",
    "    buf_dist = 50000 # buffer distance to check (meter)\n",
    "    buffer = feature_r.geometry().buffer(buf_dist) \n",
    "    \n",
    "    count = 0\n",
    "\n",
    "    for S2_id in S2_ids:\n",
    "        count += 1\n",
    "        img = ee.Image(S2_id)\n",
    "\n",
    "        Map.addLayer(img, {'band': ['B4', 'B3', 'B2'], 'min': 0, 'max': 10000}, S2_id)            \n",
    "\n",
    "        clipped = img.clip(buffer)\n",
    "        check = len(clipped.getInfo()['properties']['system:footprint']['coordinates'])\n",
    "\n",
    "        if check > 0:\n",
    "\n",
    "            overlap = True                \n",
    "            print(count, \" [YES] \", S2_id)\n",
    "\n",
    "            pan = img.select('B4').add(img.select('B3')).add(img.select('B2'))\n",
    "            pan = ee.Image.int(pan.divide(3).rename('PAN'))\n",
    "            img = img.addBands(pan)  \n",
    "\n",
    "            # Option B (recommended): Download image with a direct link =======================\n",
    "            downloadURL = img.select(['PAN']).getDownloadUrl({'name': S2_id,\n",
    "                              'crs': 'EPSG:3412',\n",
    "                              'scale': 50,\n",
    "                              'region': img.geometry(),\n",
    "                              'filePerBand': True,\n",
    "                              'format': \"GEO_TIFF\"})\n",
    "\n",
    "            print(\"Link to download: \", downloadURL)                \n",
    "\n",
    "        else:\n",
    "            print(count, \" [NO]\", S2_id)               \n",
    "\n",
    "\n",
    "    Map.addLayer(feature_l, {'color': 'red'}, \"left\")\n",
    "    Map.addLayer(feature_r, {'color': 'red'}, \"right\")\n",
    "    #         Map.addLayer(buffer, {'color': 'red'}, \"buffer\")\n",
    "\n",
    "else:\n",
    "    print(\"IS2 file is not valid\")\n",
    "    \n",
    "Map"
   ]
  },
  {
   "cell_type": "code",
   "execution_count": 97,
   "id": "2527853f",
   "metadata": {},
   "outputs": [
    {
     "data": {
      "text/plain": [
       "'F:\\\\IS2_floes\\\\ATL10\\\\Ross\\\\ATL10-02_20191123170246_08830501_005_02.h5'"
      ]
     },
     "execution_count": 97,
     "metadata": {},
     "output_type": "execute_result"
    }
   ],
   "source": [
    "is2_file"
   ]
  },
  {
   "cell_type": "markdown",
   "id": "da1a698f",
   "metadata": {},
   "source": [
    "## Visualize ATL10 data and overlapped Sentinel-2 RGB image (old version)\n",
    "### With old version of overlaps data"
   ]
  },
  {
   "cell_type": "code",
   "execution_count": 243,
   "id": "a01be77b",
   "metadata": {},
   "outputs": [
    {
     "name": "stdout",
     "output_type": "stream",
     "text": [
      "Valid k values: [0, 78]\n"
     ]
    }
   ],
   "source": [
    "print(\"Valid k values: [{0}, {1}]\".format(0, len(IS2_files)))"
   ]
  },
  {
   "cell_type": "code",
   "execution_count": 12,
   "id": "58b169ec",
   "metadata": {
    "scrolled": false
   },
   "outputs": [
    {
     "name": "stdout",
     "output_type": "stream",
     "text": [
      "IS2:  F:\\IS2_floes\\ATL10\\Weddell\\ATL10-02_20191022115216_03910501_005_02.h5\n",
      "YES:  COPERNICUS/S2_SR/20191022T124909_20191022T124907_T21DXG\n",
      "Link to download:  https://earthengine.googleapis.com/v1alpha/projects/earthengine-legacy/thumbnails/2f77eeb92761431c2280d3b0a200056c-68af7a57afbc48f94e3d99c2d0e9b27a:getPixels\n",
      "YES:  COPERNICUS/S2_SR/20191022T124909_20191022T124907_T22DDN\n",
      "Link to download:  https://earthengine.googleapis.com/v1alpha/projects/earthengine-legacy/thumbnails/a53d401bfb96ec725c4efcbde6972530-219e38ab60b51ca6aa216ceda9cf0765:getPixels\n",
      "YES:  COPERNICUS/S2_SR/20191022T124909_20191022T124907_T22DDP\n",
      "Link to download:  https://earthengine.googleapis.com/v1alpha/projects/earthengine-legacy/thumbnails/17cf22f71266d5053104be09043279d5-cbdb4fac4e39e77aa839aeae48c3e662:getPixels\n",
      "2019-10-22 gt2r -64.8985449690768 -13.71821667323174\n"
     ]
    },
    {
     "data": {
      "application/vnd.jupyter.widget-view+json": {
       "model_id": "f938f3249f6645f2895206c6e72b13dd",
       "version_major": 2,
       "version_minor": 0
      },
      "text/plain": [
       "Map(center=[-64.8985449690768, -13.71821667323174], controls=(WidgetControl(options=['position'], widget=HBox(…"
      ]
     },
     "metadata": {},
     "output_type": "display_data"
    }
   ],
   "source": [
    "# PLEASE CHANGE THIS K VALUE ==========================================\n",
    "k = 66 # Index of your IS2 file in your directory\n",
    "# WEDDELL: 5, 6, 9, 10, 14, 15, 17, 21, 24, 26, 28, 37, 38, 39, 45, 46, 47, 48, 53, 54, 63, 66* => 22\n",
    "# ROSS: 1, 3, 7, 14, 17 => 5\n",
    "# AMUNDSEN: 1, 5, 12, 13, 16, (18), (20), 24, 25, 28, 29*, 30, 35, 37, 41* => 13\n",
    "\n",
    "# TOTAL 40 pairs\n",
    "# =====================================================================\n",
    "\n",
    "# NOTE: IS2 ATL10 files should be downloaded first!!\n",
    "folder = 'F:\\\\IS2_floes\\\\ATL10\\\\' + region\n",
    "is2_file = folder + '\\\\' + IS2_files['IS2_file'][k] # IS2 filename in your directory\n",
    "\n",
    "date1 = datetime.strptime(is2_file.split(\"ATL10-02_\")[1][:8], \"%Y%m%d\").strftime(\"%Y-%m-%d\")\n",
    "date2 = (datetime.strptime(is2_file.split(\"ATL10-02_\")[1][:8], \"%Y%m%d\") + timedelta(days=1)).strftime(\"%Y-%m-%d\")\n",
    "\n",
    "beams = ['gt2r'] # List of beams you want to check\n",
    "overlap = False\n",
    "\n",
    "for beam in beams:\n",
    "    print(\"IS2: \", is2_file)\n",
    "    with h5py.File(is2_file, 'r') as f:\n",
    "        is2 = pd.DataFrame(data={'lat': f[beam]['freeboard_beam_segment']['beam_freeboard']['latitude'][:],\n",
    "                                  'lon': f[beam]['freeboard_beam_segment']['beam_freeboard']['longitude'][:],\n",
    "                                  'elev': f[beam]['freeboard_beam_segment']['height_segments']['height_segment_height'][:],\n",
    "                                 'freeboard': f[beam]['freeboard_beam_segment']['beam_freeboard']['beam_fb_height'][:],\n",
    "                                  'type': f[beam]['freeboard_beam_segment']['height_segments']['height_segment_type'][:],\n",
    "                                  'x': f[beam]['freeboard_beam_segment']['beam_freeboard']['seg_dist_x'][:]})\n",
    "\n",
    "        is2 = is2[is2['freeboard'] <= 10000].reset_index(drop=True)\n",
    "#         is2 = is2[(is2['lat'] <= -71.4) & (is2['lat'] > -71.6)].reset_index(drop=True)\n",
    "        is2['x'] = is2['x'] - is2['x'].min()\n",
    "        \n",
    "    Map = geemap.Map(center=(is2.lat.mean(), is2.lon.mean()), zoom=7)\n",
    "    \n",
    "    if len(is2) > 0:       \n",
    "\n",
    "        ground_track_coordinates = list(zip([is2.lon[0], is2.lon[len(is2)-1]],\n",
    "                                            [is2.lat[0], is2.lat[len(is2)-1]]))\n",
    "        ground_track_projection = 'EPSG:4326' # <-- this specifies that our data longitude/latitude in degrees [https://epsg.io/4326]\n",
    "        # gtx_feature = ee.FeatureCollection(ee.Geometry.MultiPoint(coords=ground_track_coordinates, \n",
    "        #                                       proj=ground_track_projection), {key: 'val1'})\n",
    "\n",
    "        gtx_feature = ee.FeatureCollection(ee.Geometry.LineString(coords=ground_track_coordinates, \n",
    "                                              proj=ground_track_projection, \n",
    "                                              geodesic=True))\n",
    "\n",
    "        buf_dist = 50000 # buffer distance to check (meter)\n",
    "        buffer = gtx_feature.geometry().buffer(buf_dist) \n",
    "\n",
    "        S2_ids = filelist[filelist['IS2_file'] == IS2_files['IS2_file'][k]]['S1_id'].values\n",
    "\n",
    "        for S2_id in S2_ids:\n",
    "            img = ee.Image(S2_id)\n",
    "            Map.addLayer(img, {'band': ['B4', 'B3', 'B2'], 'min': 0, 'max': 10000}, S2_id)\n",
    "            \n",
    "            # Check if the S2 image and IS2 data is overlapped\n",
    "            clipped = img.clip(buffer)\n",
    "            check = len(clipped.getInfo()['properties']['system:footprint']['coordinates'])\n",
    "\n",
    "            if check > 0:\n",
    "                overlap = True                \n",
    "                print(\"YES: \", S2_id)\n",
    "                \n",
    "                # Option A: Download image into Google Drive =====================================\n",
    "#                 task = ee.batch.Export.image.toDrive(\n",
    "#                     image = img.select(['B4', 'B3', 'B2']),\n",
    "#                     description = os.path.basename(S2_id),\n",
    "#                     folder = 'S2_images',\n",
    "#                     region= img.geometry(),\n",
    "#                     scale = 100,\n",
    "#                     maxPixels = 1e12\n",
    "#                 );\n",
    "                \n",
    "#                 task.start()\n",
    "                # Export S2 image if it is overlapped with IS2 within buffer area\n",
    "                # =================================================================================\n",
    "                \n",
    "                # Option B (recommended): Download image with a direct link =======================\n",
    "                downloadURL = img.select(['B4']).getDownloadUrl({'name': 'mySatelliteImage',\n",
    "                                  'crs': 'EPSG:3412',\n",
    "                                  'scale': 50,\n",
    "                                  'region': img.geometry(),\n",
    "                                  'filePerBand': False,\n",
    "                                  'format': 'GEO_TIFF'})\n",
    "\n",
    "                print(\"Link to download: \", downloadURL)\n",
    "                \n",
    "                \n",
    "            else:\n",
    "                print(\"NO : \", S2_id)               \n",
    "            \n",
    "\n",
    "        Map.addLayer(gtx_feature, {'color': 'red'}, beam)\n",
    "#         Map.addLayer(buffer, {'color': 'red'}, \"buffer\")\n",
    "        \n",
    "    else:\n",
    "        print(\"IS2 file is not valid\")\n",
    "    \n",
    "    print(date1, beam, is2.lat.mean(), is2.lon.mean())\n",
    "    \n",
    "Map"
   ]
  },
  {
   "cell_type": "code",
   "execution_count": 7,
   "id": "2181a481",
   "metadata": {},
   "outputs": [
    {
     "name": "stdout",
     "output_type": "stream",
     "text": [
      "COPERNICUS/S2_SR/20191113T183459_20191113T183501_T02CNA\n",
      "Link to download:  https://earthengine.googleapis.com/v1alpha/projects/earthengine-legacy/thumbnails/e24676e629279b0a907586b8f4e99585-50644b1e75b185da20c1744990051c7a:getPixels\n",
      "COPERNICUS/S2_SR/20191113T183459_20191113T183501_T02CNT\n",
      "Link to download:  https://earthengine.googleapis.com/v1alpha/projects/earthengine-legacy/thumbnails/eac2b652a7a978bb31796bcfce488fd3-bfc791e2b2f7b6bc97c7e215ac76dc3f:getPixels\n",
      "COPERNICUS/S2_SR/20191113T183459_20191113T183501_T02CNU\n",
      "Link to download:  https://earthengine.googleapis.com/v1alpha/projects/earthengine-legacy/thumbnails/60ee4b4ee0836b48ffe0138d579ae529-88cde4afb887e48ff7d76988ed9b78f7:getPixels\n",
      "COPERNICUS/S2_SR/20191113T183459_20191113T183501_T02CNV\n",
      "Link to download:  https://earthengine.googleapis.com/v1alpha/projects/earthengine-legacy/thumbnails/2a73b0ab5fa973ed8b4ab9814cbd799c-ad7cc3997176ed71f9fef0b886c5569c:getPixels\n",
      "COPERNICUS/S2_SR/20191113T183459_20191113T183501_T03CVN\n",
      "Link to download:  https://earthengine.googleapis.com/v1alpha/projects/earthengine-legacy/thumbnails/b979faad6f2b194db02bbf48dbbe109b-393b0cc73d341bd8fac8c494fc07bf18:getPixels\n",
      "COPERNICUS/S2_SR/20191113T183459_20191113T183501_T03CVP\n",
      "Link to download:  https://earthengine.googleapis.com/v1alpha/projects/earthengine-legacy/thumbnails/9f6d8ba054fb371b10865bebab79845b-cfda10b56b855a00923960ecdf75aa43:getPixels\n",
      "COPERNICUS/S2_SR/20191113T183459_20191113T183501_T03CVR\n",
      "Link to download:  https://earthengine.googleapis.com/v1alpha/projects/earthengine-legacy/thumbnails/d69cdff8d11cea0b372857ff359bb0c7-4b19c4e4ab5dbb5d76257604a60ead79:getPixels\n",
      "IS2 file is not valid\n"
     ]
    },
    {
     "data": {
      "application/vnd.jupyter.widget-view+json": {
       "model_id": "0b9498ae09074c2ea500462b3314b9cc",
       "version_major": 2,
       "version_minor": 0
      },
      "text/plain": [
       "Map(center=[40, -100], controls=(WidgetControl(options=['position'], widget=HBox(children=(ToggleButton(value=…"
      ]
     },
     "metadata": {},
     "output_type": "display_data"
    }
   ],
   "source": [
    "Map = geemap.Map()\n",
    "\n",
    "S2_ids = [\n",
    "    \"COPERNICUS/S2_SR/20210227T155329_20210227T155326_T12CVB\",\n",
    "    \"COPERNICUS/S2_SR/20210207T155329_20210207T155325_T12CXE\",\n",
    "    \"COPERNICUS/S2_SR/20210207T155329_20210207T155325_T13CDU\",\n",
    "    \"COPERNICUS/S2_SR/20210207T155329_20210207T155325_T13CDV\"\n",
    "]\n",
    "\n",
    "S2_ids = [\n",
    "    \"COPERNICUS/S2_SR/20191113T183459_20191113T183501_T02CNA\",\n",
    "    \"COPERNICUS/S2_SR/20191113T183459_20191113T183501_T02CNT\",\n",
    "    \"COPERNICUS/S2_SR/20191113T183459_20191113T183501_T02CNU\",\n",
    "    \"COPERNICUS/S2_SR/20191113T183459_20191113T183501_T02CNV\",\n",
    "    \"COPERNICUS/S2_SR/20191113T183459_20191113T183501_T03CVN\",\n",
    "    \"COPERNICUS/S2_SR/20191113T183459_20191113T183501_T03CVP\",\n",
    "    \"COPERNICUS/S2_SR/20191113T183459_20191113T183501_T03CVR\"\n",
    "]\n",
    "\n",
    "for S2_id in S2_ids:\n",
    "    print(S2_id)\n",
    "    img = ee.Image(S2_id)\n",
    "    Map.addLayer(img, {'band': ['B4', 'B3', 'B2'], 'min': 0, 'max': 10000}, S2_id)\n",
    "\n",
    "    # Option B (recommended): Download image with a direct link =======================\n",
    "    downloadURL = img.select(['B4']).getDownloadUrl({'name': 'mySatelliteImage',\n",
    "                      'crs': 'EPSG:3412',\n",
    "                      'scale': 50,\n",
    "                      'region': img.geometry(),\n",
    "                      'filePerBand': False,\n",
    "                      'format': 'GEO_TIFF'})\n",
    "\n",
    "    print(\"Link to download: \", downloadURL)\n",
    "\n",
    "else:\n",
    "    print(\"IS2 file is not valid\")\n",
    "\n",
    "Map"
   ]
  },
  {
   "cell_type": "code",
   "execution_count": 47,
   "id": "66733d6a",
   "metadata": {},
   "outputs": [
    {
     "data": {
      "text/html": [
       "<div>\n",
       "<style scoped>\n",
       "    .dataframe tbody tr th:only-of-type {\n",
       "        vertical-align: middle;\n",
       "    }\n",
       "\n",
       "    .dataframe tbody tr th {\n",
       "        vertical-align: top;\n",
       "    }\n",
       "\n",
       "    .dataframe thead th {\n",
       "        text-align: right;\n",
       "    }\n",
       "</style>\n",
       "<table border=\"1\" class=\"dataframe\">\n",
       "  <thead>\n",
       "    <tr style=\"text-align: right;\">\n",
       "      <th></th>\n",
       "      <th>month</th>\n",
       "      <th>time</th>\n",
       "      <th>year</th>\n",
       "    </tr>\n",
       "  </thead>\n",
       "  <tbody>\n",
       "    <tr>\n",
       "      <th>0</th>\n",
       "      <td>1</td>\n",
       "      <td>4</td>\n",
       "      <td>4</td>\n",
       "    </tr>\n",
       "    <tr>\n",
       "      <th>1</th>\n",
       "      <td>2</td>\n",
       "      <td>2</td>\n",
       "      <td>2</td>\n",
       "    </tr>\n",
       "    <tr>\n",
       "      <th>2</th>\n",
       "      <td>3</td>\n",
       "      <td>4</td>\n",
       "      <td>4</td>\n",
       "    </tr>\n",
       "    <tr>\n",
       "      <th>3</th>\n",
       "      <td>9</td>\n",
       "      <td>1</td>\n",
       "      <td>1</td>\n",
       "    </tr>\n",
       "    <tr>\n",
       "      <th>4</th>\n",
       "      <td>10</td>\n",
       "      <td>3</td>\n",
       "      <td>3</td>\n",
       "    </tr>\n",
       "    <tr>\n",
       "      <th>5</th>\n",
       "      <td>11</td>\n",
       "      <td>7</td>\n",
       "      <td>7</td>\n",
       "    </tr>\n",
       "    <tr>\n",
       "      <th>6</th>\n",
       "      <td>12</td>\n",
       "      <td>6</td>\n",
       "      <td>6</td>\n",
       "    </tr>\n",
       "  </tbody>\n",
       "</table>\n",
       "</div>"
      ],
      "text/plain": [
       "   month  time  year\n",
       "0      1     4     4\n",
       "1      2     2     2\n",
       "2      3     4     4\n",
       "3      9     1     1\n",
       "4     10     3     3\n",
       "5     11     7     7\n",
       "6     12     6     6"
      ]
     },
     "execution_count": 47,
     "metadata": {},
     "output_type": "execute_result"
    }
   ],
   "source": [
    "from glob import glob\n",
    "import os\n",
    "\n",
    "region = \"Amundsen\"\n",
    "imglist = sorted(glob(\"F:\\\\IS2_floes\\\\S2\\\\{0}\\\\*.tif\".format(region)))\n",
    "\n",
    "imgtimes = []\n",
    "imgmonths = []\n",
    "imgyears = []\n",
    "\n",
    "for img in imglist:\n",
    "    imgtime = datetime.strptime(os.path.basename(img)[:15], \"%Y%m%dT%H%M%S\")\n",
    "    if imgtime not in imgtimes:\n",
    "        imgtimes.append(imgtime)\n",
    "        imgmonths.append(imgtime.month)\n",
    "        imgyears.append(imgtime.year)\n",
    "        \n",
    "imginfos = pd.DataFrame({\"time\": imgtimes, \"month\": imgmonths, \"year\": imgyears})\n",
    "imgsum = imginfos.groupby(by = \"month\", as_index = False).count()\n",
    "imgsum"
   ]
  },
  {
   "cell_type": "code",
   "execution_count": 48,
   "id": "86b5e005",
   "metadata": {},
   "outputs": [
    {
     "data": {
      "text/plain": [
       "Text(0.5, 1.0, 'Number of S2 images for each month (Amundsen)')"
      ]
     },
     "execution_count": 48,
     "metadata": {},
     "output_type": "execute_result"
    },
    {
     "data": {
      "application/vnd.jupyter.widget-view+json": {
       "model_id": "4e1cf28fe5d44568aee7fd03b70e6591",
       "version_major": 2,
       "version_minor": 0
      },
      "image/png": "[encoded data removed]",
      "text/html": [
       "\n",
       "            <div style=\"display: inline-block;\">\n",
       "                <div class=\"jupyter-widgets widget-label\" style=\"text-align: center;\">\n",
       "                    Figure\n",
       "                </div>\n",
       "                <img src='data:image/png;base64,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' width=640.0/>\n",
       "            </div>\n",
       "        "
      ],
      "text/plain": [
       "Canvas(toolbar=Toolbar(toolitems=[('Home', 'Reset original view', 'home', 'home'), ('Back', 'Back to previous …"
      ]
     },
     "metadata": {},
     "output_type": "display_data"
    }
   ],
   "source": [
    "plt.figure()\n",
    "plt.bar(imgsum[\"month\"], imgsum[\"time\"])\n",
    "plt.title(\"Number of S2 images for each month ({0})\".format(region))"
   ]
  },
  {
   "cell_type": "markdown",
   "id": "ed816a64",
   "metadata": {},
   "source": [
    "## References\n",
    "\n",
    "To further explore the topics of this tutorial see the following detailed documentation:\n",
    "\n",
    "* [The OpenAltimetry API](https://openaltimetry.org/data/swagger-ui/)\n",
    "* [Google Earth Engine JavaScript and Python Guides](https://developers.google.com/earth-engine/guides)\n",
    "* [The geemap package](https://geemap.org/) and [tutorials](https://geemap.org/tutorials/)"
   ]
  }
 ],
 "metadata": {
  "kernelspec": {
   "display_name": "Python 3 (ipykernel)",
   "language": "python",
   "name": "python3"
  },
  "language_info": {
   "codemirror_mode": {
    "name": "ipython",
    "version": 3
   },
   "file_extension": ".py",
   "mimetype": "text/x-python",
   "name": "python",
   "nbconvert_exporter": "python",
   "pygments_lexer": "ipython3",
   "version": "3.8.13"
  }
 },
 "nbformat": 4,
 "nbformat_minor": 5
}
