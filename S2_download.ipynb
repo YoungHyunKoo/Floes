{
 "cells": [
  {
   "cell_type": "code",
   "execution_count": 5,
   "id": "7d789f91",
   "metadata": {},
   "outputs": [],
   "source": [
    "import ee\n",
    "import geemap"
   ]
  },
  {
   "cell_type": "code",
   "execution_count": 2,
   "id": "98def72b",
   "metadata": {},
   "outputs": [],
   "source": [
    "ee.Initialize()"
   ]
  },
  {
   "cell_type": "code",
   "execution_count": 19,
   "id": "30b55a58",
   "metadata": {},
   "outputs": [],
   "source": [
    "image_id = \"20210101T110249_20210101T110249_T22CDV\"\n",
    "image = ee.Image(\"COPERNICUS/S2_SR/\" + image_id).select(\"B4\", \"B3\", \"B2\")\n",
    "filename = image_id + \".tif\"\n",
    "\n",
    "# 20191022T124909_20191023T081639_T21DWH\n",
    "# 20210101T110249_20210101T110249_T22CDV"
   ]
  },
  {
   "cell_type": "code",
   "execution_count": 23,
   "id": "9c21039f",
   "metadata": {},
   "outputs": [
    {
     "name": "stdout",
     "output_type": "stream",
     "text": [
      "Generating URL ...\n",
      "An error occurred while downloading.\n",
      "Total request size (120626289 bytes) must be less than or equal to 50331648 bytes.\n"
     ]
    }
   ],
   "source": [
    "geemap.ee_export_image(image, filename = filename, scale = 30)"
   ]
  },
  {
   "cell_type": "code",
   "execution_count": 17,
   "id": "625ed9ee",
   "metadata": {},
   "outputs": [
    {
     "data": {
      "text/plain": [
       "3.8938130140304565"
      ]
     },
     "execution_count": 17,
     "metadata": {},
     "output_type": "execute_result"
    }
   ],
   "source": [
    "195982026/50331648"
   ]
  },
  {
   "cell_type": "code",
   "execution_count": 3,
   "id": "bc565261",
   "metadata": {},
   "outputs": [],
   "source": [
    "import shutil\n",
    "import glob, os"
   ]
  },
  {
   "cell_type": "code",
   "execution_count": 10,
   "id": "0dff2c61",
   "metadata": {},
   "outputs": [
    {
     "data": {
      "text/plain": [
       "'T21DWF'"
      ]
     },
     "execution_count": 10,
     "metadata": {},
     "output_type": "execute_result"
    }
   ],
   "source": [
    "os.path.basename(files[0])[-26:-20]"
   ]
  },
  {
   "cell_type": "code",
   "execution_count": 13,
   "id": "dd913ed8",
   "metadata": {},
   "outputs": [],
   "source": [
    "files = glob.glob(\"F:\\\\IS2_floes\\\\S2\\\\Weddell_all2\\\\*.tif\")\n",
    "\n",
    "for f in files:\n",
    "    src = os.path.basename(f)\n",
    "    track = src[-26:-20]\n",
    "    dst = \"F:\\\\IS2_floes\\\\S2\\\\Weddell_10m\\\\\" + src.replace(track + \"_\", \"\").replace(\"MSIL2A\", \"MSIL2A_\" + track)\n",
    "    shutil.copyfile(f, dst)"
   ]
  }
 ],
 "metadata": {
  "kernelspec": {
   "display_name": "Python 3 (ipykernel)",
   "language": "python",
   "name": "python3"
  },
  "language_info": {
   "codemirror_mode": {
    "name": "ipython",
    "version": 3
   },
   "file_extension": ".py",
   "mimetype": "text/x-python",
   "name": "python",
   "nbconvert_exporter": "python",
   "pygments_lexer": "ipython3",
   "version": "3.8.13"
  }
 },
 "nbformat": 4,
 "nbformat_minor": 5
}
