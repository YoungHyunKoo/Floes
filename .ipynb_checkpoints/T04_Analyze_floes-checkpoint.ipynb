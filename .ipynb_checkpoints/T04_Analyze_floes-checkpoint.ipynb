{
 "cells": [
  {
   "cell_type": "markdown",
   "metadata": {},
   "source": [
    "# DISPLAY MAPS"
   ]
  },
  {
   "cell_type": "markdown",
   "metadata": {},
   "source": [
    "## Display sea ice statistics maps in the Weddell Sea using .nc files\n",
    "- Read netCDF files for the sea ice statistics\n",
    "- Draw sea ice statistics maps in the Weddell Sea\n",
    "\n",
    "Credited by Younghyun Koo (kooala317@gmail.com)"
   ]
  },
  {
   "cell_type": "markdown",
   "metadata": {},
   "source": [
    "## (1) Import necessary libraries"
   ]
  },
  {
   "cell_type": "code",
   "execution_count": null,
   "metadata": {
    "tags": []
   },
   "outputs": [],
   "source": [
    "import warnings\n",
    "warnings.filterwarnings('ignore')\n",
    "\n",
    "import os\n",
    "import numpy as np\n",
    "import h5py\n",
    "import matplotlib.pylab as plt\n",
    "from math import *\n",
    "import time\n",
    "import pandas as pd\n",
    "import datetime as dt\n",
    "\n",
    "import pickle"
   ]
  },
  {
   "cell_type": "markdown",
   "metadata": {},
   "source": [
    "## (2) Read pickle files"
   ]
  },
  {
   "cell_type": "code",
   "execution_count": null,
   "metadata": {},
   "outputs": [],
   "source": [
    "# Define region and lead type\n",
    "region = \"entire\" # [\"south\", \"west\", \"entire\"]\n",
    "lead_type = \"SD\" # [\"S\", \"SD\", \"F001\", \"F002\"]"
   ]
  },
  {
   "cell_type": "code",
   "execution_count": null,
   "metadata": {
    "tags": []
   },
   "outputs": [],
   "source": [
    "# 1. How to open \"fb_distribution_*.pkl\": Freeboard distribution\n",
    "\n",
    "file_name = f\"D:\\\\Floes\\\\array\\\\fb_distribution_{region}_all_v6_{lead_type}.pkl\" # put your file name here\n",
    "open_file = open(file_name, \"rb\")\n",
    "[year_all, mth_all, day_all, ITD_bins, ITD_all] = pickle.load(open_file)\n",
    "open_file.close()\n",
    "\n",
    "print(ITD_all.shape)\n",
    "\n",
    "# year_all: year of the data\n",
    "# mth_all: month of the data\n",
    "# day_all: day of the data\n",
    "# ITD_bins: bins of the freeboard distribution\n",
    "# ITD_all: freeboard counts for the bins of ITD_bins"
   ]
  },
  {
   "cell_type": "code",
   "execution_count": null,
   "metadata": {
    "tags": []
   },
   "outputs": [],
   "source": [
    "# 2. How to open \"floe_profiles_*.pkl\": Freeboard profiles (0-50)\n",
    "\n",
    "file_name = f\"D:\\\\Floes\\\\array\\\\floe_profiles_{region}_all_v6_{lead_type}.pkl\" # put your file name here\n",
    "open_file = open(file_name, \"rb\")\n",
    "[year_all, mth_all, day_all, floe_profiles, floe_chord_lengths, floe_fb] = pickle.load(open_file)\n",
    "open_file.close()\n",
    "\n",
    "print(floe_profiles.shape, floe_profiles.shape)\n",
    "\n",
    "# year_all: year of the data\n",
    "# mth_all: month of the data\n",
    "# day_all: month of the data\n",
    "# floe_profiles: frofiles of floe freeboard\n",
    "# floe_chord_lengths: chord length for each floe\n",
    "# floe_fb: freeboard for each floe"
   ]
  },
  {
   "cell_type": "code",
   "execution_count": null,
   "metadata": {
    "tags": []
   },
   "outputs": [],
   "source": [
    "# 3. How to open \"fb_chord_full_*.pkl\": Chord length & Freeboard for each ice floe\n",
    "\n",
    "file_name = f\"D:\\\\Floes\\\\array\\\\floe_chord_full_{region}_all_v6_{lead_type}.pkl\" # put your file name here\n",
    "open_file = open(file_name, \"rb\")\n",
    "[floe_year, floe_month, floe_day, floe_lat, floe_lon, floe_lengths, floe_fb_mean, floe_fb_med, floe_fb_std] = pickle.load(open_file)\n",
    "open_file.close()\n",
    "\n",
    "print(floe_lengths.shape, floe_fb_mean.shape, floe_fb_std.shape)\n",
    "\n",
    "# floe_year: years of individual floes\n",
    "# floe_month: months of individual floes\n",
    "# floe_day: days of individual floes\n",
    "# floe_lat: latitudes of individual floes\n",
    "# floe_lon: longitudes of individual floes\n",
    "# floe_lengths: chord lengths of individual floes\n",
    "# floe_fb_mean: mean freeboards of individual floes\n",
    "# floe_fb_med: median freeboards of individual floes\n",
    "# floe_fb_std: standard deviation freeboards of individual floes"
   ]
  },
  {
   "cell_type": "code",
   "execution_count": null,
   "metadata": {
    "tags": []
   },
   "outputs": [],
   "source": [
    "# 4. How to open \"Lead_*.pkl\": Lead widths & Lead spacings\n",
    "\n",
    "file_name = f\"D:\\\\Floes\\\\array\\\\Lead_{region}_all_v6_{lead_type}.pkl\" # put your file name here\n",
    "open_file = open(file_name, \"rb\")\n",
    "[year_all, mth_all, day_all, lead_counts, lead_spacings, lead_width_bin_means] = pickle.load(open_file)\n",
    "open_file.close()\n",
    "\n",
    "print(lead_counts.shape, lead_spacings.shape)\n",
    "\n",
    "# year_all: year of the data\n",
    "# mth_all: month of the data\n",
    "# day_all: month of the data\n",
    "# lead_counts: number of leads for the binned lead width\n",
    "# lead_spacings: spacings of leads for the binned lead width (unit: m)\n",
    "# lead_width_bin_means: mean lead width for each bin (np.arange(10, 3000, 10))"
   ]
  }
 ],
 "metadata": {
  "kernelspec": {
   "display_name": "Python 3 (ipykernel)",
   "language": "python",
   "name": "python3"
  },
  "language_info": {
   "codemirror_mode": {
    "name": "ipython",
    "version": 3
   },
   "file_extension": ".py",
   "mimetype": "text/x-python",
   "name": "python",
   "nbconvert_exporter": "python",
   "pygments_lexer": "ipython3",
   "version": "3.10.11"
  }
 },
 "nbformat": 4,
 "nbformat_minor": 4
}
